{
 "cells": [
  {
   "cell_type": "code",
   "execution_count": 2,
   "metadata": {
    "collapsed": true
   },
   "outputs": [],
   "source": [
    "import numpy as np\n",
    "import pandas as pd\n",
    "import seaborn as sns\n",
    "import matplotlib.pyplot as plt\n",
    "from random import randint\n",
    "\n",
    "from src.ca import Street, Runner\n",
    "from src.rules import *\n"
   ]
  },
  {
   "cell_type": "code",
   "execution_count": null,
   "outputs": [],
   "source": [
    "def run_sim(n_lanes:int = 1,\n",
    "            street_length:int = 200,\n",
    "            max_timesteps:int = 1000,\n",
    "            n_cars:int = 30,\n",
    "            v_max:int = 8,\n",
    "            dawdling_factor = 0.05,\n",
    "            seed = 1227603) -> Runner:\n",
    "\n",
    "    street = Street(n_lanes,street_length,n_cars, v_max, seed)\n",
    "    if n_lanes > 1:\n",
    "        rulelist = [Accelerate(v_max),\n",
    "                    BreakOrTakeOver(),\n",
    "                    Dawdling(dawdling_factor, seed),\n",
    "                    MoveForward(),\n",
    "                    MergeBack()]\n",
    "    else:\n",
    "        rulelist = [Accelerate(v_max),\n",
    "                    BreakOrTakeOver(),\n",
    "                    Dawdling(dawdling_factor, seed),\n",
    "                    MoveForward()]\n",
    "\n",
    "    runner = Runner(street, rulelist, max_timesteps = max_timesteps)\n",
    "    runner.run()\n",
    "    return runner"
   ],
   "metadata": {
    "collapsed": false,
    "pycharm": {
     "name": "#%%\n"
    }
   }
  },
  {
   "cell_type": "code",
   "execution_count": null,
   "outputs": [],
   "source": [
    "r1 = run_sim(n_lanes=2, seed=1)\n",
    "plt.plot(r1.metric_avg_rel_speed())"
   ],
   "metadata": {
    "collapsed": false,
    "pycharm": {
     "name": "#%%\n"
    }
   }
  },
  {
   "cell_type": "markdown",
   "source": [
    "# Traffic Simulation with one lane"
   ],
   "metadata": {
    "collapsed": false
   }
  },
  {
   "cell_type": "code",
   "execution_count": null,
   "outputs": [],
   "source": [
    "paramspace = {\"v_max\": [5,8,10],                        # 3 values\n",
    "              \"n_cars\": [10,15,20,25,30,35,40,45,50],   # 9 values\n",
    "              \"dawd\": [0.01,0.025,0.05,0.075,0.1]}    # 5 values\n",
    "# total: 135 runs\n",
    "\n",
    "results = []\n",
    "names = []\n",
    "run_number = 0\n",
    "names = [\"run\", \"v_max\", \"n_cars\", \"dawdling\",\n",
    "         \"speed_avg\", \"speed_std\",\"speed_min\",\n",
    "         \"speed_q1\", \"speed_median\", \"speed_q3\",\n",
    "         \"speed_max\", \"seed\"]\n",
    "runs_per_experiment = 5\n",
    "for v_max in paramspace[\"v_max\"]:\n",
    "    for n_cars in paramspace[\"n_cars\"]:\n",
    "        for dawdling_factor in paramspace[\"dawd\"]:\n",
    "            for n in range(runs_per_experiment):\n",
    "                print(f\"run number {run_number}\")\n",
    "                seed = randint(1000,10000000)\n",
    "                r = run_sim(n_lanes=1,\n",
    "                            n_cars=n_cars,\n",
    "                            v_max=v_max,\n",
    "                            dawdling_factor=dawdling_factor,\n",
    "                            seed=seed)\n",
    "                avg_speeds = r.metric_avg_rel_speed()\n",
    "                results.append([run_number,\n",
    "                                v_max,\n",
    "                                n_cars,\n",
    "                                dawdling_factor,\n",
    "                                np.mean(avg_speeds),\n",
    "                                np.std(avg_speeds),\n",
    "                                *np.quantile(avg_speeds, [0,0.25, 0.5, 0.75,1]),\n",
    "                                seed])\n",
    "                run_number += 1\n",
    "\n",
    "rdf_1lane = pd.DataFrame(results, columns=names)\n",
    "rdf_1lane.to_csv(\"results_1lane.csv\", sep=\",\", index=False)"
   ],
   "metadata": {
    "collapsed": false,
    "pycharm": {
     "name": "#%%\n"
    }
   }
  },
  {
   "cell_type": "code",
   "execution_count": null,
   "outputs": [],
   "source": [
    "\n",
    "#warnings.filterwarnings('ignore')\n",
    "g = sns.FacetGrid(rdf_1lane, row=\"v_max\",\n",
    "                  margin_titles=True, hue='dawdling')\n",
    "g.map(sns.lineplot, \"n_cars\", 'speed_avg')\n"
   ],
   "metadata": {
    "collapsed": false,
    "pycharm": {
     "name": "#%%\n"
    }
   }
  },
  {
   "cell_type": "markdown",
   "source": [
    "# Traffic Simulation with two lanes"
   ],
   "metadata": {
    "collapsed": false
   }
  },
  {
   "cell_type": "code",
   "execution_count": null,
   "outputs": [],
   "source": [
    "paramspace = {\"v_max\": [5,8,10],                        # 3 values\n",
    "              \"n_cars\": [10,15,20,25,30,35,40,45,50],   # 9 values\n",
    "              \"dawd\": [0.01,0.025,0.05,0.075,0.1]}    # 5 values\n",
    "# total: 135 runs\n",
    "results = []\n",
    "names = []\n",
    "run_number = 0\n",
    "names = [\"run\", \"v_max\", \"n_cars\", \"dawdling\",\n",
    "         \"speed_avg\", \"speed_std\",\"speed_min\",\n",
    "         \"speed_q1\", \"speed_median\", \"speed_q3\",\n",
    "         \"speed_max\", \"seed\"]\n",
    "runs_per_experiment = 5\n",
    "for v_max in paramspace[\"v_max\"]:\n",
    "    for n_cars in paramspace[\"n_cars\"]:\n",
    "        for dawdling_factor in paramspace[\"dawd\"]:\n",
    "            for n in range(runs_per_experiment):\n",
    "                print(f\"run number {run_number}\")\n",
    "                seed = randint(1000,10000000)\n",
    "                r = run_sim(n_lanes=2,\n",
    "                            n_cars=n_cars,\n",
    "                            v_max=v_max,\n",
    "                            dawdling_factor=dawdling_factor,\n",
    "                            seed=seed)\n",
    "                avg_speeds = r.metric_avg_rel_speed()\n",
    "                results.append([run_number,\n",
    "                                v_max,\n",
    "                                n_cars,\n",
    "                                dawdling_factor,\n",
    "                                np.mean(avg_speeds),\n",
    "                                np.std(avg_speeds),\n",
    "                                *np.quantile(avg_speeds, [0,0.25, 0.5, 0.75,1]),\n",
    "                                seed])\n",
    "                run_number += 1\n",
    "\n",
    "rdf_2lane = pd.DataFrame(results, columns=names)\n",
    "rdf_2lane.to_csv(\"results_2lane.csv\", sep=\",\", index=False)"
   ],
   "metadata": {
    "collapsed": false,
    "pycharm": {
     "name": "#%%\n"
    }
   }
  },
  {
   "cell_type": "markdown",
   "source": [
    "## Analysis of 1-lane experiments"
   ],
   "metadata": {
    "collapsed": false,
    "pycharm": {
     "name": "#%% md\n"
    }
   }
  },
  {
   "cell_type": "code",
   "execution_count": 22,
   "outputs": [
    {
     "data": {
      "text/plain": "   run  v_max  n_cars  dawdling  speed_avg  speed_std  speed_min  speed_q1  \\\n0    0      5      10      0.01    0.99622   0.030785       0.34       1.0   \n1    1      5      10      0.01    0.99570   0.034990       0.32       1.0   \n2    2      5      10      0.01    0.99638   0.028328       0.36       1.0   \n3    3      5      10      0.01    0.99608   0.024311       0.46       1.0   \n4    4      5      10      0.01    0.99630   0.027120       0.42       1.0   \n\n   speed_median  speed_q3  speed_max     seed  \n0           1.0       1.0        1.0  9152750  \n1           1.0       1.0        1.0  4999674  \n2           1.0       1.0        1.0  6786429  \n3           1.0       1.0        1.0  5533875  \n4           1.0       1.0        1.0  4583010  ",
      "text/html": "<div>\n<style scoped>\n    .dataframe tbody tr th:only-of-type {\n        vertical-align: middle;\n    }\n\n    .dataframe tbody tr th {\n        vertical-align: top;\n    }\n\n    .dataframe thead th {\n        text-align: right;\n    }\n</style>\n<table border=\"1\" class=\"dataframe\">\n  <thead>\n    <tr style=\"text-align: right;\">\n      <th></th>\n      <th>run</th>\n      <th>v_max</th>\n      <th>n_cars</th>\n      <th>dawdling</th>\n      <th>speed_avg</th>\n      <th>speed_std</th>\n      <th>speed_min</th>\n      <th>speed_q1</th>\n      <th>speed_median</th>\n      <th>speed_q3</th>\n      <th>speed_max</th>\n      <th>seed</th>\n    </tr>\n  </thead>\n  <tbody>\n    <tr>\n      <th>0</th>\n      <td>0</td>\n      <td>5</td>\n      <td>10</td>\n      <td>0.01</td>\n      <td>0.99622</td>\n      <td>0.030785</td>\n      <td>0.34</td>\n      <td>1.0</td>\n      <td>1.0</td>\n      <td>1.0</td>\n      <td>1.0</td>\n      <td>9152750</td>\n    </tr>\n    <tr>\n      <th>1</th>\n      <td>1</td>\n      <td>5</td>\n      <td>10</td>\n      <td>0.01</td>\n      <td>0.99570</td>\n      <td>0.034990</td>\n      <td>0.32</td>\n      <td>1.0</td>\n      <td>1.0</td>\n      <td>1.0</td>\n      <td>1.0</td>\n      <td>4999674</td>\n    </tr>\n    <tr>\n      <th>2</th>\n      <td>2</td>\n      <td>5</td>\n      <td>10</td>\n      <td>0.01</td>\n      <td>0.99638</td>\n      <td>0.028328</td>\n      <td>0.36</td>\n      <td>1.0</td>\n      <td>1.0</td>\n      <td>1.0</td>\n      <td>1.0</td>\n      <td>6786429</td>\n    </tr>\n    <tr>\n      <th>3</th>\n      <td>3</td>\n      <td>5</td>\n      <td>10</td>\n      <td>0.01</td>\n      <td>0.99608</td>\n      <td>0.024311</td>\n      <td>0.46</td>\n      <td>1.0</td>\n      <td>1.0</td>\n      <td>1.0</td>\n      <td>1.0</td>\n      <td>5533875</td>\n    </tr>\n    <tr>\n      <th>4</th>\n      <td>4</td>\n      <td>5</td>\n      <td>10</td>\n      <td>0.01</td>\n      <td>0.99630</td>\n      <td>0.027120</td>\n      <td>0.42</td>\n      <td>1.0</td>\n      <td>1.0</td>\n      <td>1.0</td>\n      <td>1.0</td>\n      <td>4583010</td>\n    </tr>\n  </tbody>\n</table>\n</div>"
     },
     "execution_count": 22,
     "metadata": {},
     "output_type": "execute_result"
    }
   ],
   "source": [
    "df = pd.read_csv(\"results_1lane.csv\", sep=\",\", index_col=None)\n",
    "df.head()"
   ],
   "metadata": {
    "collapsed": false,
    "pycharm": {
     "name": "#%%\n"
    }
   }
  },
  {
   "cell_type": "code",
   "execution_count": 23,
   "outputs": [
    {
     "data": {
      "text/plain": "<Figure size 432x288 with 1 Axes>",
      "image/png": "[encoded data removed]"
     },
     "metadata": {},
     "output_type": "display_data"
    }
   ],
   "source": [
    "sns.set_theme(style=\"whitegrid\")\n",
    "ncars_1lane_len200 = sns.lineplot(data=df, x=\"n_cars\", y=\"speed_avg\", hue=\"v_max\", palette=\"tab10\")\n",
    "plt.ylabel(\"relative average velocity\")\n",
    "plt.title(\"lanes = 1 | length = 200\")\n",
    "plt.savefig(\"figures/ncars_1lanes_len200.png\")"
   ],
   "metadata": {
    "collapsed": false,
    "pycharm": {
     "name": "#%%\n"
    }
   }
  },
  {
   "cell_type": "code",
   "execution_count": 24,
   "outputs": [
    {
     "data": {
      "text/plain": "<Figure size 432x288 with 1 Axes>",
      "image/png": "[encoded data removed]"
     },
     "metadata": {},
     "output_type": "display_data"
    }
   ],
   "source": [
    "sns.lineplot(data=df, x=\"dawdling\", y=\"speed_avg\", hue=\"v_max\", palette=\"tab10\")\n",
    "plt.xlabel(\"p_d\")\n",
    "plt.ylabel(\"relative average velocity\")\n",
    "plt.title(\"lanes = 1 | length = 200\")\n",
    "plt.savefig(\"figures/dawdling_1lanes_len200.png\")"
   ],
   "metadata": {
    "collapsed": false,
    "pycharm": {
     "name": "#%%\n"
    }
   }
  },
  {
   "cell_type": "markdown",
   "source": [
    "Interpretation:\n",
    "Dawdling factor does not contribute meaningfully to the fluidity breakdown phenomenon.\n",
    "As long as there is any chance for sudden speed reductions, it only takes a few occurences to influence traffic flow\n",
    "if the density of traffic is enough that a jam is likely to form in the first place.\n",
    "\n",
    "As the number of cars on the road increases however, a breakdown point where the fluidity of traffic decreases drastically is evident."
   ],
   "metadata": {
    "collapsed": false
   }
  },
  {
   "cell_type": "code",
   "execution_count": null,
   "outputs": [],
   "source": [
    "\n",
    "paramspace = {\"v_max\": [5,8,10],                        # 3 values\n",
    "              \"n_cars\": [20,25,30,35,40,45,50,55,60],   # 9 values\n",
    "              \"dawd\": [0.05]}    # 1 values\n",
    "# total: 27 runs\n",
    "\n",
    "results = []\n",
    "names = []\n",
    "run_number = 0\n",
    "names = [\"run\", \"v_max\", \"n_cars\", \"dawdling\",\n",
    "         \"speed_avg\", \"speed_std\",\"speed_min\",\n",
    "         \"speed_q1\", \"speed_median\", \"speed_q3\",\n",
    "         \"speed_max\", \"seed\"]\n",
    "runs_per_experiment = 5\n",
    "for v_max in paramspace[\"v_max\"]:\n",
    "    for n_cars in paramspace[\"n_cars\"]:\n",
    "        for dawdling_factor in paramspace[\"dawd\"]:\n",
    "            for n in range(runs_per_experiment):\n",
    "                print(f\"run number {run_number}\")\n",
    "                seed = randint(1000,10000000)\n",
    "                r = run_sim(n_lanes=1,\n",
    "                            street_length=400,\n",
    "                            n_cars=n_cars,\n",
    "                            v_max=v_max,\n",
    "                            dawdling_factor=dawdling_factor,\n",
    "                            seed=seed)\n",
    "                avg_speeds = r.metric_avg_rel_speed()\n",
    "                results.append([run_number,\n",
    "                                v_max,\n",
    "                                n_cars,\n",
    "                                dawdling_factor,\n",
    "                                np.mean(avg_speeds),\n",
    "                                np.std(avg_speeds),\n",
    "                                *np.quantile(avg_speeds, [0,0.25, 0.5, 0.75,1]),\n",
    "                                seed])\n",
    "                run_number += 1\n",
    "\n",
    "rdf_1lane = pd.DataFrame(results, columns=names)\n",
    "rdf_1lane.to_csv(\"results_1lane_doublelength.csv\", sep=\",\", index=False)"
   ],
   "metadata": {
    "collapsed": false,
    "pycharm": {
     "name": "#%%\n"
    }
   }
  },
  {
   "cell_type": "code",
   "execution_count": 20,
   "outputs": [
    {
     "data": {
      "text/plain": "<Figure size 432x288 with 1 Axes>",
      "image/png": "[encoded data removed]"
     },
     "metadata": {},
     "output_type": "display_data"
    }
   ],
   "source": [
    "df = pd.read_csv(\"results_1lane_doublelength.csv\", sep=\",\", index_col=None)\n",
    "ncars_1lane_len400 = sns.lineplot(data=df, x=\"n_cars\", y=\"speed_avg\", hue=\"v_max\", palette=\"tab10\")\n",
    "plt.ylabel(\"relative average velocity\")\n",
    "plt.title(\"lanes = 1 | length = 400\")\n",
    "plt.savefig(\"figures/ncars_1lanes_len400.png\")"
   ],
   "metadata": {
    "collapsed": false,
    "pycharm": {
     "name": "#%%\n"
    }
   }
  },
  {
   "cell_type": "markdown",
   "source": [
    "When doubling the road, approximately double the amount of cars can be accomodated before a breakdown in traffic fluidity occurs.\n",
    "As a result, at a vmax of 8 40 cars can be accomdated, as opposed to 20 before."
   ],
   "metadata": {
    "collapsed": false,
    "pycharm": {
     "name": "#%% md\n"
    }
   }
  },
  {
   "cell_type": "code",
   "execution_count": 56,
   "outputs": [
    {
     "data": {
      "text/plain": "Text(0.5, 1.0, 'Average speed for a 2-lane road of length 200')"
     },
     "execution_count": 56,
     "metadata": {},
     "output_type": "execute_result"
    },
    {
     "data": {
      "text/plain": "<Figure size 432x288 with 1 Axes>",
      "image/png": "[encoded data removed]"
     },
     "metadata": {},
     "output_type": "display_data"
    }
   ],
   "source": [
    "df = pd.read_csv(\"results_2lane.csv\", sep=\",\", index_col=None)\n",
    "ncars_2lanes_len200 = sns.lineplot(data=df, x=\"n_cars\", y=\"speed_avg\", hue=\"v_max\", palette=\"tab10\")\n",
    "plt.title(\"Average speed for a 2-lane road of length 200\")"
   ],
   "metadata": {
    "collapsed": false,
    "pycharm": {
     "name": "#%%\n"
    }
   }
  },
  {
   "cell_type": "markdown",
   "source": [
    "adding another lane only slightly improves the breakdown behaviour. It's more noticeable in the v_max=5 scenario as the\n",
    "breakdown is more spread out (the most notable \"breakdown\" in the curve is at n_cars=35 as oppposed to 30 for the single-lane experiment),\n",
    "but the same slight shift can be observed for all experiments - but notably doubling the lanes does not double the capacity as one might expect.\n",
    "\n",
    "It's possible that optimized overtaking and merge-back behaviour (rules) can improve this."
   ],
   "metadata": {
    "collapsed": false,
    "pycharm": {
     "name": "#%% md\n"
    }
   }
  },
  {
   "cell_type": "code",
   "execution_count": 39,
   "outputs": [
    {
     "data": {
      "text/plain": "Text(0.5, 1.0, 'Average speed for a 2-lane road of length 200')"
     },
     "execution_count": 39,
     "metadata": {},
     "output_type": "execute_result"
    },
    {
     "data": {
      "text/plain": "<Figure size 432x288 with 1 Axes>",
      "image/png": "[encoded data removed]"
     },
     "metadata": {},
     "output_type": "display_data"
    }
   ],
   "source": [
    "sns.lineplot(data=df, x=\"dawdling\", y=\"speed_avg\", hue=\"v_max\", palette=\"tab10\")\n",
    "plt.title(\"Average speed for a 2-lane road of length 200\")"
   ],
   "metadata": {
    "collapsed": false,
    "pycharm": {
     "name": "#%%\n"
    }
   }
  },
  {
   "cell_type": "markdown",
   "source": [
    "Once more the dawdling factor does not show significant influence on the breakdown behaviour. It will be set to p_d = 0.05 in future experiments."
   ],
   "metadata": {
    "collapsed": false,
    "pycharm": {
     "name": "#%% md\n"
    }
   }
  },
  {
   "cell_type": "code",
   "execution_count": 43,
   "outputs": [],
   "source": [
    "%%capture\n",
    "\n",
    "paramspace = {\"v_max\": [5,8,10],                        # 3 values\n",
    "              \"n_cars\": [10,15,20,25,30,35,40,45,50],   # 9 values\n",
    "              \"dawd\": [0.05]}    # 1 values\n",
    "# total: 27 runs\n",
    "\n",
    "results = []\n",
    "names = []\n",
    "run_number = 0\n",
    "names = [\"run\", \"v_max\", \"n_cars\", \"dawdling\",\n",
    "         \"speed_avg\", \"speed_std\",\"speed_min\",\n",
    "         \"speed_q1\", \"speed_median\", \"speed_q3\",\n",
    "         \"speed_max\", \"seed\"]\n",
    "runs_per_experiment = 5\n",
    "for v_max in paramspace[\"v_max\"]:\n",
    "    for n_cars in paramspace[\"n_cars\"]:\n",
    "        for dawdling_factor in paramspace[\"dawd\"]:\n",
    "            for n in range(runs_per_experiment):\n",
    "                print(f\"run number {run_number}\")\n",
    "                seed = randint(1000,10000000)\n",
    "                r = run_sim(n_lanes=3,\n",
    "                            street_length=200,\n",
    "                            n_cars=n_cars,\n",
    "                            v_max=v_max,\n",
    "                            dawdling_factor=dawdling_factor,\n",
    "                            seed=seed)\n",
    "                avg_speeds = r.metric_avg_rel_speed()\n",
    "                results.append([run_number,\n",
    "                                v_max,\n",
    "                                n_cars,\n",
    "                                dawdling_factor,\n",
    "                                np.mean(avg_speeds),\n",
    "                                np.std(avg_speeds),\n",
    "                                *np.quantile(avg_speeds, [0,0.25, 0.5, 0.75,1]),\n",
    "                                seed])\n",
    "                run_number += 1\n",
    "\n",
    "rdf_3lane = pd.DataFrame(results, columns=names)\n",
    "rdf_3lane.to_csv(\"results_3lane.csv\", sep=\",\", index=False)"
   ],
   "metadata": {
    "collapsed": false,
    "pycharm": {
     "name": "#%%\n"
    }
   }
  },
  {
   "cell_type": "code",
   "execution_count": 57,
   "outputs": [
    {
     "data": {
      "text/plain": "Text(0.5, 1.0, 'Average speed for a 3-lane road of length 200')"
     },
     "execution_count": 57,
     "metadata": {},
     "output_type": "execute_result"
    },
    {
     "data": {
      "text/plain": "<Figure size 432x288 with 1 Axes>",
      "image/png": "[encoded data removed]"
     },
     "metadata": {},
     "output_type": "display_data"
    }
   ],
   "source": [],
   "metadata": {
    "collapsed": false,
    "pycharm": {
     "name": "#%%\n"
    }
   }
  },
  {
   "cell_type": "markdown",
   "source": [
    "interestingly, 3 lanes shows a more marked improvement in capacity compared to 2-lane and 1-lane streets."
   ],
   "metadata": {
    "collapsed": false,
    "pycharm": {
     "name": "#%% md\n"
    }
   }
  },
  {
   "cell_type": "code",
   "execution_count": 45,
   "outputs": [],
   "source": [
    "%%capture\n",
    "\n",
    "paramspace = {\"v_max\": [5,8,10],                        # 3 values\n",
    "              \"n_cars\": [10,15,20,25,30,35,40,45,50],   # 9 values\n",
    "              \"dawd\": [0.05]}    # 1 values\n",
    "# total: 27 runs\n",
    "\n",
    "results = []\n",
    "names = []\n",
    "run_number = 0\n",
    "names = [\"run\", \"v_max\", \"n_cars\", \"dawdling\",\n",
    "         \"speed_avg\", \"speed_std\",\"speed_min\",\n",
    "         \"speed_q1\", \"speed_median\", \"speed_q3\",\n",
    "         \"speed_max\", \"seed\"]\n",
    "runs_per_experiment = 5\n",
    "for v_max in paramspace[\"v_max\"]:\n",
    "    for n_cars in paramspace[\"n_cars\"]:\n",
    "        for dawdling_factor in paramspace[\"dawd\"]:\n",
    "            for n in range(runs_per_experiment):\n",
    "                print(f\"run number {run_number}\")\n",
    "                seed = randint(1000,10000000)\n",
    "                r = run_sim(n_lanes=4,\n",
    "                            street_length=200,\n",
    "                            n_cars=n_cars,\n",
    "                            v_max=v_max,\n",
    "                            dawdling_factor=dawdling_factor,\n",
    "                            seed=seed)\n",
    "                avg_speeds = r.metric_avg_rel_speed()\n",
    "                results.append([run_number,\n",
    "                                v_max,\n",
    "                                n_cars,\n",
    "                                dawdling_factor,\n",
    "                                np.mean(avg_speeds),\n",
    "                                np.std(avg_speeds),\n",
    "                                *np.quantile(avg_speeds, [0,0.25, 0.5, 0.75,1]),\n",
    "                                seed])\n",
    "                run_number += 1\n",
    "\n",
    "rdf_4lane = pd.DataFrame(results, columns=names)\n",
    "rdf_4lane.to_csv(\"results_4lane.csv\", sep=\",\", index=False)"
   ],
   "metadata": {
    "collapsed": false,
    "pycharm": {
     "name": "#%%\n"
    }
   }
  },
  {
   "cell_type": "code",
   "execution_count": 70,
   "outputs": [],
   "source": [
    "%%capture\n",
    "\n",
    "paramspace = {\"v_max\": [5,8,10],                        # 3 values\n",
    "              \"n_cars\": [20,25,30,35,40,45,50,55,60],   # 9 values\n",
    "              \"dawd\": [0.05]}    # 1 values\n",
    "# total: 27 runs\n",
    "\n",
    "results = []\n",
    "names = []\n",
    "run_number = 0\n",
    "names = [\"run\", \"v_max\", \"n_cars\", \"dawdling\",\n",
    "         \"speed_avg\", \"speed_std\",\"speed_min\",\n",
    "         \"speed_q1\", \"speed_median\", \"speed_q3\",\n",
    "         \"speed_max\", \"seed\"]\n",
    "runs_per_experiment = 5\n",
    "for v_max in paramspace[\"v_max\"]:\n",
    "    for n_cars in paramspace[\"n_cars\"]:\n",
    "        for dawdling_factor in paramspace[\"dawd\"]:\n",
    "            for n in range(runs_per_experiment):\n",
    "                print(f\"run number {run_number}\")\n",
    "                seed = randint(1000,10000000)\n",
    "                r = run_sim(n_lanes=2,\n",
    "                            street_length=400,\n",
    "                            n_cars=n_cars,\n",
    "                            v_max=v_max,\n",
    "                            dawdling_factor=dawdling_factor,\n",
    "                            seed=seed)\n",
    "                avg_speeds = r.metric_avg_rel_speed()\n",
    "                results.append([run_number,\n",
    "                                v_max,\n",
    "                                n_cars,\n",
    "                                dawdling_factor,\n",
    "                                np.mean(avg_speeds),\n",
    "                                np.std(avg_speeds),\n",
    "                                *np.quantile(avg_speeds, [0,0.25, 0.5, 0.75,1]),\n",
    "                                seed])\n",
    "                run_number += 1\n",
    "\n",
    "rdf_2lane_len400 = pd.DataFrame(results, columns=names)\n",
    "rdf_2lane_len400.to_csv(\"results_2lane_len400.csv\", sep=\",\", index=False)"
   ],
   "metadata": {
    "collapsed": false,
    "pycharm": {
     "name": "#%%\n"
    }
   }
  },
  {
   "cell_type": "code",
   "execution_count": 71,
   "outputs": [
    {
     "name": "stderr",
     "output_type": "stream",
     "text": [
      " 15%|█▌        | 153/1000 [00:00<00:01, 767.82it/s]"
     ]
    },
    {
     "name": "stdout",
     "output_type": "stream",
     "text": [
      "run number 0\n",
      "...............Starting simulation................\n"
     ]
    },
    {
     "name": "stderr",
     "output_type": "stream",
     "text": [
      "100%|██████████| 1000/1000 [00:01<00:00, 823.01it/s]\n",
      " 17%|█▋        | 170/1000 [00:00<00:00, 835.08it/s]"
     ]
    },
    {
     "name": "stdout",
     "output_type": "stream",
     "text": [
      "........Ended simulation after 1000 steps!........\n",
      "run number 1\n",
      "...............Starting simulation................\n"
     ]
    },
    {
     "name": "stderr",
     "output_type": "stream",
     "text": [
      "100%|██████████| 1000/1000 [00:01<00:00, 832.79it/s]\n",
      "  8%|▊         | 85/1000 [00:00<00:01, 849.81it/s]"
     ]
    },
    {
     "name": "stdout",
     "output_type": "stream",
     "text": [
      "........Ended simulation after 1000 steps!........\n",
      "run number 2\n",
      "...............Starting simulation................\n"
     ]
    },
    {
     "name": "stderr",
     "output_type": "stream",
     "text": [
      "100%|██████████| 1000/1000 [00:01<00:00, 854.24it/s]\n",
      "  8%|▊         | 85/1000 [00:00<00:01, 849.82it/s]"
     ]
    },
    {
     "name": "stdout",
     "output_type": "stream",
     "text": [
      "........Ended simulation after 1000 steps!........\n",
      "run number 3\n",
      "...............Starting simulation................\n"
     ]
    },
    {
     "name": "stderr",
     "output_type": "stream",
     "text": [
      "100%|██████████| 1000/1000 [00:01<00:00, 818.51it/s]\n",
      " 17%|█▋        | 168/1000 [00:00<00:01, 830.03it/s]"
     ]
    },
    {
     "name": "stdout",
     "output_type": "stream",
     "text": [
      "........Ended simulation after 1000 steps!........\n",
      "run number 4\n",
      "...............Starting simulation................\n"
     ]
    },
    {
     "name": "stderr",
     "output_type": "stream",
     "text": [
      "100%|██████████| 1000/1000 [00:01<00:00, 831.43it/s]\n",
      "  8%|▊         | 76/1000 [00:00<00:01, 755.42it/s]"
     ]
    },
    {
     "name": "stdout",
     "output_type": "stream",
     "text": [
      "........Ended simulation after 1000 steps!........\n",
      "run number 5\n",
      "...............Starting simulation................\n"
     ]
    },
    {
     "name": "stderr",
     "output_type": "stream",
     "text": [
      "100%|██████████| 1000/1000 [00:01<00:00, 725.96it/s]\n",
      "  8%|▊         | 79/1000 [00:00<00:01, 783.44it/s]"
     ]
    },
    {
     "name": "stdout",
     "output_type": "stream",
     "text": [
      "........Ended simulation after 1000 steps!........\n",
      "run number 6\n",
      "...............Starting simulation................\n"
     ]
    },
    {
     "name": "stderr",
     "output_type": "stream",
     "text": [
      "100%|██████████| 1000/1000 [00:01<00:00, 754.37it/s]\n",
      "  7%|▋         | 66/1000 [00:00<00:01, 655.79it/s]"
     ]
    },
    {
     "name": "stdout",
     "output_type": "stream",
     "text": [
      "........Ended simulation after 1000 steps!........\n",
      "run number 7\n",
      "...............Starting simulation................\n"
     ]
    },
    {
     "name": "stderr",
     "output_type": "stream",
     "text": [
      "100%|██████████| 1000/1000 [00:01<00:00, 738.17it/s]\n",
      " 16%|█▌        | 156/1000 [00:00<00:01, 772.51it/s]"
     ]
    },
    {
     "name": "stdout",
     "output_type": "stream",
     "text": [
      "........Ended simulation after 1000 steps!........\n",
      "run number 8\n",
      "...............Starting simulation................\n"
     ]
    },
    {
     "name": "stderr",
     "output_type": "stream",
     "text": [
      "100%|██████████| 1000/1000 [00:01<00:00, 757.94it/s]\n",
      "  8%|▊         | 81/1000 [00:00<00:01, 803.19it/s]"
     ]
    },
    {
     "name": "stdout",
     "output_type": "stream",
     "text": [
      "........Ended simulation after 1000 steps!........\n",
      "run number 9\n",
      "...............Starting simulation................\n"
     ]
    },
    {
     "name": "stderr",
     "output_type": "stream",
     "text": [
      "100%|██████████| 1000/1000 [00:01<00:00, 773.44it/s]\n",
      "  7%|▋         | 69/1000 [00:00<00:01, 685.35it/s]"
     ]
    },
    {
     "name": "stdout",
     "output_type": "stream",
     "text": [
      "........Ended simulation after 1000 steps!........\n",
      "run number 10\n",
      "...............Starting simulation................\n"
     ]
    },
    {
     "name": "stderr",
     "output_type": "stream",
     "text": [
      "100%|██████████| 1000/1000 [00:01<00:00, 696.43it/s]\n",
      "  7%|▋         | 72/1000 [00:00<00:01, 712.72it/s]"
     ]
    },
    {
     "name": "stdout",
     "output_type": "stream",
     "text": [
      "........Ended simulation after 1000 steps!........\n",
      "run number 11\n",
      "...............Starting simulation................\n"
     ]
    },
    {
     "name": "stderr",
     "output_type": "stream",
     "text": [
      "100%|██████████| 1000/1000 [00:01<00:00, 697.53it/s]\n",
      "  7%|▋         | 68/1000 [00:00<00:01, 673.12it/s]"
     ]
    },
    {
     "name": "stdout",
     "output_type": "stream",
     "text": [
      "........Ended simulation after 1000 steps!........\n",
      "run number 12\n",
      "...............Starting simulation................\n"
     ]
    },
    {
     "name": "stderr",
     "output_type": "stream",
     "text": [
      "100%|██████████| 1000/1000 [00:01<00:00, 688.21it/s]\n",
      "  7%|▋         | 72/1000 [00:00<00:01, 713.26it/s]"
     ]
    },
    {
     "name": "stdout",
     "output_type": "stream",
     "text": [
      "........Ended simulation after 1000 steps!........\n",
      "run number 13\n",
      "...............Starting simulation................\n"
     ]
    },
    {
     "name": "stderr",
     "output_type": "stream",
     "text": [
      "100%|██████████| 1000/1000 [00:01<00:00, 694.76it/s]\n",
      "  7%|▋         | 68/1000 [00:00<00:01, 679.84it/s]"
     ]
    },
    {
     "name": "stdout",
     "output_type": "stream",
     "text": [
      "........Ended simulation after 1000 steps!........\n",
      "run number 14\n",
      "...............Starting simulation................\n"
     ]
    },
    {
     "name": "stderr",
     "output_type": "stream",
     "text": [
      "100%|██████████| 1000/1000 [00:01<00:00, 670.99it/s]\n",
      "  7%|▋         | 66/1000 [00:00<00:01, 653.30it/s]"
     ]
    },
    {
     "name": "stdout",
     "output_type": "stream",
     "text": [
      "........Ended simulation after 1000 steps!........\n",
      "run number 15\n",
      "...............Starting simulation................\n"
     ]
    },
    {
     "name": "stderr",
     "output_type": "stream",
     "text": [
      "100%|██████████| 1000/1000 [00:01<00:00, 646.06it/s]\n",
      "  6%|▌         | 61/1000 [00:00<00:01, 609.86it/s]"
     ]
    },
    {
     "name": "stdout",
     "output_type": "stream",
     "text": [
      "........Ended simulation after 1000 steps!........\n",
      "run number 16\n",
      "...............Starting simulation................\n"
     ]
    },
    {
     "name": "stderr",
     "output_type": "stream",
     "text": [
      "100%|██████████| 1000/1000 [00:01<00:00, 634.75it/s]\n",
      "  6%|▌         | 62/1000 [00:00<00:01, 619.85it/s]"
     ]
    },
    {
     "name": "stdout",
     "output_type": "stream",
     "text": [
      "........Ended simulation after 1000 steps!........\n",
      "run number 17\n",
      "...............Starting simulation................\n"
     ]
    },
    {
     "name": "stderr",
     "output_type": "stream",
     "text": [
      "100%|██████████| 1000/1000 [00:01<00:00, 591.69it/s]\n",
      "  6%|▌         | 60/1000 [00:00<00:01, 593.92it/s]"
     ]
    },
    {
     "name": "stdout",
     "output_type": "stream",
     "text": [
      "........Ended simulation after 1000 steps!........\n",
      "run number 18\n",
      "...............Starting simulation................\n"
     ]
    },
    {
     "name": "stderr",
     "output_type": "stream",
     "text": [
      "100%|██████████| 1000/1000 [00:01<00:00, 603.02it/s]\n",
      "  7%|▋         | 66/1000 [00:00<00:01, 659.84it/s]"
     ]
    },
    {
     "name": "stdout",
     "output_type": "stream",
     "text": [
      "........Ended simulation after 1000 steps!........\n",
      "run number 19\n",
      "...............Starting simulation................\n"
     ]
    },
    {
     "name": "stderr",
     "output_type": "stream",
     "text": [
      "100%|██████████| 1000/1000 [00:01<00:00, 623.84it/s]\n",
      "  6%|▌         | 60/1000 [00:00<00:01, 599.87it/s]"
     ]
    },
    {
     "name": "stdout",
     "output_type": "stream",
     "text": [
      "........Ended simulation after 1000 steps!........\n",
      "run number 20\n",
      "...............Starting simulation................\n"
     ]
    },
    {
     "name": "stderr",
     "output_type": "stream",
     "text": [
      "100%|██████████| 1000/1000 [00:01<00:00, 569.34it/s]\n",
      " 11%|█         | 112/1000 [00:00<00:01, 544.81it/s]"
     ]
    },
    {
     "name": "stdout",
     "output_type": "stream",
     "text": [
      "........Ended simulation after 1000 steps!........\n",
      "run number 21\n",
      "...............Starting simulation................\n"
     ]
    },
    {
     "name": "stderr",
     "output_type": "stream",
     "text": [
      "100%|██████████| 1000/1000 [00:01<00:00, 551.14it/s]\n",
      "  6%|▌         | 59/1000 [00:00<00:01, 584.03it/s]"
     ]
    },
    {
     "name": "stdout",
     "output_type": "stream",
     "text": [
      "........Ended simulation after 1000 steps!........\n",
      "run number 22\n",
      "...............Starting simulation................\n"
     ]
    },
    {
     "name": "stderr",
     "output_type": "stream",
     "text": [
      "100%|██████████| 1000/1000 [00:01<00:00, 562.90it/s]\n",
      "  6%|▌         | 60/1000 [00:00<00:01, 593.91it/s]"
     ]
    },
    {
     "name": "stdout",
     "output_type": "stream",
     "text": [
      "........Ended simulation after 1000 steps!........\n",
      "run number 23\n",
      "...............Starting simulation................\n"
     ]
    },
    {
     "name": "stderr",
     "output_type": "stream",
     "text": [
      "100%|██████████| 1000/1000 [00:01<00:00, 564.98it/s]\n",
      "  6%|▌         | 55/1000 [00:00<00:01, 544.43it/s]"
     ]
    },
    {
     "name": "stdout",
     "output_type": "stream",
     "text": [
      "........Ended simulation after 1000 steps!........\n",
      "run number 24\n",
      "...............Starting simulation................\n"
     ]
    },
    {
     "name": "stderr",
     "output_type": "stream",
     "text": [
      "100%|██████████| 1000/1000 [00:01<00:00, 574.59it/s]\n",
      "  6%|▌         | 56/1000 [00:00<00:01, 554.33it/s]"
     ]
    },
    {
     "name": "stdout",
     "output_type": "stream",
     "text": [
      "........Ended simulation after 1000 steps!........\n",
      "run number 25\n",
      "...............Starting simulation................\n"
     ]
    },
    {
     "name": "stderr",
     "output_type": "stream",
     "text": [
      "100%|██████████| 1000/1000 [00:01<00:00, 530.51it/s]\n",
      "  5%|▌         | 52/1000 [00:00<00:01, 517.28it/s]"
     ]
    },
    {
     "name": "stdout",
     "output_type": "stream",
     "text": [
      "........Ended simulation after 1000 steps!........\n",
      "run number 26\n",
      "...............Starting simulation................\n"
     ]
    },
    {
     "name": "stderr",
     "output_type": "stream",
     "text": [
      "100%|██████████| 1000/1000 [00:01<00:00, 532.30it/s]\n",
      "  6%|▌         | 56/1000 [00:00<00:01, 559.79it/s]"
     ]
    },
    {
     "name": "stdout",
     "output_type": "stream",
     "text": [
      "........Ended simulation after 1000 steps!........\n",
      "run number 27\n",
      "...............Starting simulation................\n"
     ]
    },
    {
     "name": "stderr",
     "output_type": "stream",
     "text": [
      "100%|██████████| 1000/1000 [00:01<00:00, 553.40it/s]\n",
      "  5%|▌         | 54/1000 [00:00<00:01, 534.52it/s]"
     ]
    },
    {
     "name": "stdout",
     "output_type": "stream",
     "text": [
      "........Ended simulation after 1000 steps!........\n",
      "run number 28\n",
      "...............Starting simulation................\n"
     ]
    },
    {
     "name": "stderr",
     "output_type": "stream",
     "text": [
      "100%|██████████| 1000/1000 [00:01<00:00, 512.22it/s]\n",
      "  6%|▌         | 58/1000 [00:00<00:01, 574.20it/s]"
     ]
    },
    {
     "name": "stdout",
     "output_type": "stream",
     "text": [
      "........Ended simulation after 1000 steps!........\n",
      "run number 29\n",
      "...............Starting simulation................\n"
     ]
    },
    {
     "name": "stderr",
     "output_type": "stream",
     "text": [
      "100%|██████████| 1000/1000 [00:01<00:00, 532.41it/s]\n",
      "  5%|▌         | 53/1000 [00:00<00:01, 524.64it/s]"
     ]
    },
    {
     "name": "stdout",
     "output_type": "stream",
     "text": [
      "........Ended simulation after 1000 steps!........\n",
      "run number 30\n",
      "...............Starting simulation................\n"
     ]
    },
    {
     "name": "stderr",
     "output_type": "stream",
     "text": [
      "100%|██████████| 1000/1000 [00:01<00:00, 508.12it/s]\n",
      "  5%|▌         | 52/1000 [00:00<00:01, 514.74it/s]"
     ]
    },
    {
     "name": "stdout",
     "output_type": "stream",
     "text": [
      "........Ended simulation after 1000 steps!........\n",
      "run number 31\n",
      "...............Starting simulation................\n"
     ]
    },
    {
     "name": "stderr",
     "output_type": "stream",
     "text": [
      "100%|██████████| 1000/1000 [00:02<00:00, 496.93it/s]\n",
      "  5%|▌         | 51/1000 [00:00<00:01, 509.88it/s]"
     ]
    },
    {
     "name": "stdout",
     "output_type": "stream",
     "text": [
      "........Ended simulation after 1000 steps!........\n",
      "run number 32\n",
      "...............Starting simulation................\n"
     ]
    },
    {
     "name": "stderr",
     "output_type": "stream",
     "text": [
      "100%|██████████| 1000/1000 [00:01<00:00, 504.69it/s]\n",
      "  5%|▌         | 51/1000 [00:00<00:01, 509.89it/s]"
     ]
    },
    {
     "name": "stdout",
     "output_type": "stream",
     "text": [
      "........Ended simulation after 1000 steps!........\n",
      "run number 33\n",
      "...............Starting simulation................\n"
     ]
    },
    {
     "name": "stderr",
     "output_type": "stream",
     "text": [
      "100%|██████████| 1000/1000 [00:01<00:00, 504.44it/s]\n",
      "  5%|▌         | 51/1000 [00:00<00:01, 504.84it/s]"
     ]
    },
    {
     "name": "stdout",
     "output_type": "stream",
     "text": [
      "........Ended simulation after 1000 steps!........\n",
      "run number 34\n",
      "...............Starting simulation................\n"
     ]
    },
    {
     "name": "stderr",
     "output_type": "stream",
     "text": [
      "100%|██████████| 1000/1000 [00:02<00:00, 492.08it/s]\n",
      "  9%|▉         | 94/1000 [00:00<00:01, 455.16it/s]"
     ]
    },
    {
     "name": "stdout",
     "output_type": "stream",
     "text": [
      "........Ended simulation after 1000 steps!........\n",
      "run number 35\n",
      "...............Starting simulation................\n"
     ]
    },
    {
     "name": "stderr",
     "output_type": "stream",
     "text": [
      "100%|██████████| 1000/1000 [00:02<00:00, 456.08it/s]\n",
      "  5%|▍         | 47/1000 [00:00<00:02, 460.68it/s]"
     ]
    },
    {
     "name": "stdout",
     "output_type": "stream",
     "text": [
      "........Ended simulation after 1000 steps!........\n",
      "run number 36\n",
      "...............Starting simulation................\n"
     ]
    },
    {
     "name": "stderr",
     "output_type": "stream",
     "text": [
      "100%|██████████| 1000/1000 [00:02<00:00, 459.72it/s]\n",
      "  4%|▍         | 45/1000 [00:00<00:02, 449.88it/s]"
     ]
    },
    {
     "name": "stdout",
     "output_type": "stream",
     "text": [
      "........Ended simulation after 1000 steps!........\n",
      "run number 37\n",
      "...............Starting simulation................\n"
     ]
    },
    {
     "name": "stderr",
     "output_type": "stream",
     "text": [
      "100%|██████████| 1000/1000 [00:02<00:00, 454.85it/s]\n",
      "  5%|▍         | 48/1000 [00:00<00:01, 479.89it/s]"
     ]
    },
    {
     "name": "stdout",
     "output_type": "stream",
     "text": [
      "........Ended simulation after 1000 steps!........\n",
      "run number 38\n",
      "...............Starting simulation................\n"
     ]
    },
    {
     "name": "stderr",
     "output_type": "stream",
     "text": [
      "100%|██████████| 1000/1000 [00:02<00:00, 458.96it/s]\n",
      "  4%|▍         | 45/1000 [00:00<00:02, 447.64it/s]"
     ]
    },
    {
     "name": "stdout",
     "output_type": "stream",
     "text": [
      "........Ended simulation after 1000 steps!........\n",
      "run number 39\n",
      "...............Starting simulation................\n"
     ]
    },
    {
     "name": "stderr",
     "output_type": "stream",
     "text": [
      "100%|██████████| 1000/1000 [00:02<00:00, 454.10it/s]\n",
      "  4%|▍         | 45/1000 [00:00<00:02, 445.45it/s]"
     ]
    },
    {
     "name": "stdout",
     "output_type": "stream",
     "text": [
      "........Ended simulation after 1000 steps!........\n",
      "run number 40\n",
      "...............Starting simulation................\n"
     ]
    },
    {
     "name": "stderr",
     "output_type": "stream",
     "text": [
      "100%|██████████| 1000/1000 [00:02<00:00, 427.99it/s]\n",
      "  4%|▍         | 42/1000 [00:00<00:02, 419.91it/s]"
     ]
    },
    {
     "name": "stdout",
     "output_type": "stream",
     "text": [
      "........Ended simulation after 1000 steps!........\n",
      "run number 41\n",
      "...............Starting simulation................\n"
     ]
    },
    {
     "name": "stderr",
     "output_type": "stream",
     "text": [
      "100%|██████████| 1000/1000 [00:02<00:00, 421.41it/s]\n",
      "  4%|▍         | 45/1000 [00:00<00:02, 445.45it/s]"
     ]
    },
    {
     "name": "stdout",
     "output_type": "stream",
     "text": [
      "........Ended simulation after 1000 steps!........\n",
      "run number 42\n",
      "...............Starting simulation................\n"
     ]
    },
    {
     "name": "stderr",
     "output_type": "stream",
     "text": [
      "100%|██████████| 1000/1000 [00:02<00:00, 437.05it/s]\n",
      "  5%|▍         | 46/1000 [00:00<00:02, 450.88it/s]"
     ]
    },
    {
     "name": "stdout",
     "output_type": "stream",
     "text": [
      "........Ended simulation after 1000 steps!........\n",
      "run number 43\n",
      "...............Starting simulation................\n"
     ]
    },
    {
     "name": "stderr",
     "output_type": "stream",
     "text": [
      "100%|██████████| 1000/1000 [00:02<00:00, 425.80it/s]\n",
      "  4%|▍         | 42/1000 [00:00<00:02, 419.90it/s]"
     ]
    },
    {
     "name": "stdout",
     "output_type": "stream",
     "text": [
      "........Ended simulation after 1000 steps!........\n",
      "run number 44\n",
      "...............Starting simulation................\n"
     ]
    },
    {
     "name": "stderr",
     "output_type": "stream",
     "text": [
      "100%|██████████| 1000/1000 [00:02<00:00, 429.66it/s]\n",
      "  8%|▊         | 83/1000 [00:00<00:01, 829.80it/s]"
     ]
    },
    {
     "name": "stdout",
     "output_type": "stream",
     "text": [
      "........Ended simulation after 1000 steps!........\n",
      "run number 45\n",
      "...............Starting simulation................\n"
     ]
    },
    {
     "name": "stderr",
     "output_type": "stream",
     "text": [
      "100%|██████████| 1000/1000 [00:01<00:00, 821.56it/s]\n",
      " 15%|█▌        | 154/1000 [00:00<00:01, 771.59it/s]"
     ]
    },
    {
     "name": "stdout",
     "output_type": "stream",
     "text": [
      "........Ended simulation after 1000 steps!........\n",
      "run number 46\n",
      "...............Starting simulation................\n"
     ]
    },
    {
     "name": "stderr",
     "output_type": "stream",
     "text": [
      "100%|██████████| 1000/1000 [00:01<00:00, 786.16it/s]\n",
      "  9%|▊         | 86/1000 [00:00<00:01, 859.80it/s]"
     ]
    },
    {
     "name": "stdout",
     "output_type": "stream",
     "text": [
      "........Ended simulation after 1000 steps!........\n",
      "run number 47\n",
      "...............Starting simulation................\n"
     ]
    },
    {
     "name": "stderr",
     "output_type": "stream",
     "text": [
      "100%|██████████| 1000/1000 [00:01<00:00, 803.29it/s]\n",
      " 16%|█▌        | 158/1000 [00:00<00:01, 781.97it/s]"
     ]
    },
    {
     "name": "stdout",
     "output_type": "stream",
     "text": [
      "........Ended simulation after 1000 steps!........\n",
      "run number 48\n",
      "...............Starting simulation................\n"
     ]
    },
    {
     "name": "stderr",
     "output_type": "stream",
     "text": [
      "100%|██████████| 1000/1000 [00:01<00:00, 788.40it/s]\n",
      " 16%|█▌        | 158/1000 [00:00<00:01, 782.00it/s]"
     ]
    },
    {
     "name": "stdout",
     "output_type": "stream",
     "text": [
      "........Ended simulation after 1000 steps!........\n",
      "run number 49\n",
      "...............Starting simulation................\n"
     ]
    },
    {
     "name": "stderr",
     "output_type": "stream",
     "text": [
      "100%|██████████| 1000/1000 [00:01<00:00, 792.90it/s]\n",
      "  7%|▋         | 71/1000 [00:00<00:01, 709.65it/s]"
     ]
    },
    {
     "name": "stdout",
     "output_type": "stream",
     "text": [
      "........Ended simulation after 1000 steps!........\n",
      "run number 50\n",
      "...............Starting simulation................\n"
     ]
    },
    {
     "name": "stderr",
     "output_type": "stream",
     "text": [
      "100%|██████████| 1000/1000 [00:01<00:00, 717.05it/s]\n",
      "  8%|▊         | 77/1000 [00:00<00:01, 769.82it/s]"
     ]
    },
    {
     "name": "stdout",
     "output_type": "stream",
     "text": [
      "........Ended simulation after 1000 steps!........\n",
      "run number 51\n",
      "...............Starting simulation................\n"
     ]
    },
    {
     "name": "stderr",
     "output_type": "stream",
     "text": [
      "100%|██████████| 1000/1000 [00:01<00:00, 722.20it/s]\n",
      "  7%|▋         | 71/1000 [00:00<00:01, 709.84it/s]"
     ]
    },
    {
     "name": "stdout",
     "output_type": "stream",
     "text": [
      "........Ended simulation after 1000 steps!........\n",
      "run number 52\n",
      "...............Starting simulation................\n"
     ]
    },
    {
     "name": "stderr",
     "output_type": "stream",
     "text": [
      "100%|██████████| 1000/1000 [00:01<00:00, 710.19it/s]\n",
      " 14%|█▍        | 145/1000 [00:00<00:01, 703.04it/s]"
     ]
    },
    {
     "name": "stdout",
     "output_type": "stream",
     "text": [
      "........Ended simulation after 1000 steps!........\n",
      "run number 53\n",
      "...............Starting simulation................\n"
     ]
    },
    {
     "name": "stderr",
     "output_type": "stream",
     "text": [
      "100%|██████████| 1000/1000 [00:01<00:00, 699.30it/s]\n",
      "  7%|▋         | 74/1000 [00:00<00:01, 737.90it/s]"
     ]
    },
    {
     "name": "stdout",
     "output_type": "stream",
     "text": [
      "........Ended simulation after 1000 steps!........\n",
      "run number 54\n",
      "...............Starting simulation................\n"
     ]
    },
    {
     "name": "stderr",
     "output_type": "stream",
     "text": [
      "100%|██████████| 1000/1000 [00:01<00:00, 721.41it/s]\n",
      "  7%|▋         | 69/1000 [00:00<00:01, 681.82it/s]"
     ]
    },
    {
     "name": "stdout",
     "output_type": "stream",
     "text": [
      "........Ended simulation after 1000 steps!........\n",
      "run number 55\n",
      "...............Starting simulation................\n"
     ]
    },
    {
     "name": "stderr",
     "output_type": "stream",
     "text": [
      "100%|██████████| 1000/1000 [00:01<00:00, 664.21it/s]\n",
      "  7%|▋         | 67/1000 [00:00<00:01, 663.22it/s]"
     ]
    },
    {
     "name": "stdout",
     "output_type": "stream",
     "text": [
      "........Ended simulation after 1000 steps!........\n",
      "run number 56\n",
      "...............Starting simulation................\n"
     ]
    },
    {
     "name": "stderr",
     "output_type": "stream",
     "text": [
      "100%|██████████| 1000/1000 [00:01<00:00, 674.41it/s]\n",
      "  7%|▋         | 68/1000 [00:00<00:01, 673.11it/s]"
     ]
    },
    {
     "name": "stdout",
     "output_type": "stream",
     "text": [
      "........Ended simulation after 1000 steps!........\n",
      "run number 57\n",
      "...............Starting simulation................\n"
     ]
    },
    {
     "name": "stderr",
     "output_type": "stream",
     "text": [
      "100%|██████████| 1000/1000 [00:01<00:00, 666.51it/s]\n",
      " 13%|█▎        | 131/1000 [00:00<00:01, 655.73it/s]"
     ]
    },
    {
     "name": "stdout",
     "output_type": "stream",
     "text": [
      "........Ended simulation after 1000 steps!........\n",
      "run number 58\n",
      "...............Starting simulation................\n"
     ]
    },
    {
     "name": "stderr",
     "output_type": "stream",
     "text": [
      "100%|██████████| 1000/1000 [00:01<00:00, 655.77it/s]\n",
      "  7%|▋         | 66/1000 [00:00<00:01, 659.88it/s]"
     ]
    },
    {
     "name": "stdout",
     "output_type": "stream",
     "text": [
      "........Ended simulation after 1000 steps!........\n",
      "run number 59\n",
      "...............Starting simulation................\n"
     ]
    },
    {
     "name": "stderr",
     "output_type": "stream",
     "text": [
      "100%|██████████| 1000/1000 [00:01<00:00, 653.02it/s]\n",
      "  6%|▋         | 64/1000 [00:00<00:01, 633.52it/s]"
     ]
    },
    {
     "name": "stdout",
     "output_type": "stream",
     "text": [
      "........Ended simulation after 1000 steps!........\n",
      "run number 60\n",
      "...............Starting simulation................\n"
     ]
    },
    {
     "name": "stderr",
     "output_type": "stream",
     "text": [
      "100%|██████████| 1000/1000 [00:01<00:00, 599.29it/s]\n",
      "  6%|▌         | 59/1000 [00:00<00:01, 584.02it/s]"
     ]
    },
    {
     "name": "stdout",
     "output_type": "stream",
     "text": [
      "........Ended simulation after 1000 steps!........\n",
      "run number 61\n",
      "...............Starting simulation................\n"
     ]
    },
    {
     "name": "stderr",
     "output_type": "stream",
     "text": [
      "100%|██████████| 1000/1000 [00:01<00:00, 582.72it/s]\n",
      "  6%|▌         | 56/1000 [00:00<00:01, 559.87it/s]"
     ]
    },
    {
     "name": "stdout",
     "output_type": "stream",
     "text": [
      "........Ended simulation after 1000 steps!........\n",
      "run number 62\n",
      "...............Starting simulation................\n"
     ]
    },
    {
     "name": "stderr",
     "output_type": "stream",
     "text": [
      "100%|██████████| 1000/1000 [00:01<00:00, 593.67it/s]\n",
      "  6%|▌         | 60/1000 [00:00<00:01, 593.93it/s]"
     ]
    },
    {
     "name": "stdout",
     "output_type": "stream",
     "text": [
      "........Ended simulation after 1000 steps!........\n",
      "run number 63\n",
      "...............Starting simulation................\n"
     ]
    },
    {
     "name": "stderr",
     "output_type": "stream",
     "text": [
      "100%|██████████| 1000/1000 [00:01<00:00, 581.57it/s]\n",
      "  6%|▌         | 61/1000 [00:00<00:01, 603.82it/s]"
     ]
    },
    {
     "name": "stdout",
     "output_type": "stream",
     "text": [
      "........Ended simulation after 1000 steps!........\n",
      "run number 64\n",
      "...............Starting simulation................\n"
     ]
    },
    {
     "name": "stderr",
     "output_type": "stream",
     "text": [
      "100%|██████████| 1000/1000 [00:01<00:00, 590.18it/s]\n",
      "  6%|▌         | 57/1000 [00:00<00:01, 564.23it/s]"
     ]
    },
    {
     "name": "stdout",
     "output_type": "stream",
     "text": [
      "........Ended simulation after 1000 steps!........\n",
      "run number 65\n",
      "...............Starting simulation................\n"
     ]
    },
    {
     "name": "stderr",
     "output_type": "stream",
     "text": [
      "100%|██████████| 1000/1000 [00:01<00:00, 545.61it/s]\n",
      " 11%|█▏        | 114/1000 [00:00<00:01, 557.72it/s]"
     ]
    },
    {
     "name": "stdout",
     "output_type": "stream",
     "text": [
      "........Ended simulation after 1000 steps!........\n",
      "run number 66\n",
      "...............Starting simulation................\n"
     ]
    },
    {
     "name": "stderr",
     "output_type": "stream",
     "text": [
      "100%|██████████| 1000/1000 [00:01<00:00, 533.13it/s]\n",
      "  6%|▌         | 55/1000 [00:00<00:01, 549.88it/s]"
     ]
    },
    {
     "name": "stdout",
     "output_type": "stream",
     "text": [
      "........Ended simulation after 1000 steps!........\n",
      "run number 67\n",
      "...............Starting simulation................\n"
     ]
    },
    {
     "name": "stderr",
     "output_type": "stream",
     "text": [
      "100%|██████████| 1000/1000 [00:02<00:00, 491.45it/s]\n",
      "  5%|▌         | 51/1000 [00:00<00:01, 509.87it/s]"
     ]
    },
    {
     "name": "stdout",
     "output_type": "stream",
     "text": [
      "........Ended simulation after 1000 steps!........\n",
      "run number 68\n",
      "...............Starting simulation................\n"
     ]
    },
    {
     "name": "stderr",
     "output_type": "stream",
     "text": [
      "100%|██████████| 1000/1000 [00:01<00:00, 502.94it/s]\n",
      "  6%|▌         | 55/1000 [00:00<00:01, 541.93it/s]"
     ]
    },
    {
     "name": "stdout",
     "output_type": "stream",
     "text": [
      "........Ended simulation after 1000 steps!........\n",
      "run number 69\n",
      "...............Starting simulation................\n"
     ]
    },
    {
     "name": "stderr",
     "output_type": "stream",
     "text": [
      "100%|██████████| 1000/1000 [00:01<00:00, 532.55it/s]\n",
      "  5%|▍         | 49/1000 [00:00<00:01, 487.92it/s]"
     ]
    },
    {
     "name": "stdout",
     "output_type": "stream",
     "text": [
      "........Ended simulation after 1000 steps!........\n",
      "run number 70\n",
      "...............Starting simulation................\n"
     ]
    },
    {
     "name": "stderr",
     "output_type": "stream",
     "text": [
      "100%|██████████| 1000/1000 [00:02<00:00, 481.69it/s]\n",
      "  5%|▌         | 53/1000 [00:00<00:01, 524.63it/s]"
     ]
    },
    {
     "name": "stdout",
     "output_type": "stream",
     "text": [
      "........Ended simulation after 1000 steps!........\n",
      "run number 71\n",
      "...............Starting simulation................\n"
     ]
    },
    {
     "name": "stderr",
     "output_type": "stream",
     "text": [
      "100%|██████████| 1000/1000 [00:02<00:00, 494.85it/s]\n",
      "  5%|▌         | 52/1000 [00:00<00:01, 519.25it/s]"
     ]
    },
    {
     "name": "stdout",
     "output_type": "stream",
     "text": [
      "........Ended simulation after 1000 steps!........\n",
      "run number 72\n",
      "...............Starting simulation................\n"
     ]
    },
    {
     "name": "stderr",
     "output_type": "stream",
     "text": [
      "100%|██████████| 1000/1000 [00:01<00:00, 503.77it/s]\n",
      "  5%|▌         | 52/1000 [00:00<00:01, 519.86it/s]"
     ]
    },
    {
     "name": "stdout",
     "output_type": "stream",
     "text": [
      "........Ended simulation after 1000 steps!........\n",
      "run number 73\n",
      "...............Starting simulation................\n"
     ]
    },
    {
     "name": "stderr",
     "output_type": "stream",
     "text": [
      "100%|██████████| 1000/1000 [00:02<00:00, 494.05it/s]\n",
      "  5%|▌         | 50/1000 [00:00<00:01, 499.87it/s]"
     ]
    },
    {
     "name": "stdout",
     "output_type": "stream",
     "text": [
      "........Ended simulation after 1000 steps!........\n",
      "run number 74\n",
      "...............Starting simulation................\n"
     ]
    },
    {
     "name": "stderr",
     "output_type": "stream",
     "text": [
      "100%|██████████| 1000/1000 [00:02<00:00, 495.91it/s]\n",
      "  5%|▍         | 49/1000 [00:00<00:01, 488.76it/s]"
     ]
    },
    {
     "name": "stdout",
     "output_type": "stream",
     "text": [
      "........Ended simulation after 1000 steps!........\n",
      "run number 75\n",
      "...............Starting simulation................\n"
     ]
    },
    {
     "name": "stderr",
     "output_type": "stream",
     "text": [
      "100%|██████████| 1000/1000 [00:02<00:00, 456.88it/s]\n",
      "  4%|▍         | 43/1000 [00:00<00:02, 424.06it/s]"
     ]
    },
    {
     "name": "stdout",
     "output_type": "stream",
     "text": [
      "........Ended simulation after 1000 steps!........\n",
      "run number 76\n",
      "...............Starting simulation................\n"
     ]
    },
    {
     "name": "stderr",
     "output_type": "stream",
     "text": [
      "100%|██████████| 1000/1000 [00:02<00:00, 444.43it/s]\n",
      "  5%|▍         | 48/1000 [00:00<00:02, 475.14it/s]"
     ]
    },
    {
     "name": "stdout",
     "output_type": "stream",
     "text": [
      "........Ended simulation after 1000 steps!........\n",
      "run number 77\n",
      "...............Starting simulation................\n"
     ]
    },
    {
     "name": "stderr",
     "output_type": "stream",
     "text": [
      "100%|██████████| 1000/1000 [00:02<00:00, 445.23it/s]\n",
      "  5%|▍         | 47/1000 [00:00<00:02, 469.89it/s]"
     ]
    },
    {
     "name": "stdout",
     "output_type": "stream",
     "text": [
      "........Ended simulation after 1000 steps!........\n",
      "run number 78\n",
      "...............Starting simulation................\n"
     ]
    },
    {
     "name": "stderr",
     "output_type": "stream",
     "text": [
      "100%|██████████| 1000/1000 [00:02<00:00, 450.75it/s]\n",
      "  4%|▍         | 45/1000 [00:00<00:02, 449.99it/s]"
     ]
    },
    {
     "name": "stdout",
     "output_type": "stream",
     "text": [
      "........Ended simulation after 1000 steps!........\n",
      "run number 79\n",
      "...............Starting simulation................\n"
     ]
    },
    {
     "name": "stderr",
     "output_type": "stream",
     "text": [
      "100%|██████████| 1000/1000 [00:02<00:00, 436.42it/s]\n",
      "  4%|▍         | 42/1000 [00:00<00:02, 419.89it/s]"
     ]
    },
    {
     "name": "stdout",
     "output_type": "stream",
     "text": [
      "........Ended simulation after 1000 steps!........\n",
      "run number 80\n",
      "...............Starting simulation................\n"
     ]
    },
    {
     "name": "stderr",
     "output_type": "stream",
     "text": [
      "100%|██████████| 1000/1000 [00:02<00:00, 422.62it/s]\n",
      "  5%|▍         | 46/1000 [00:00<00:02, 455.33it/s]"
     ]
    },
    {
     "name": "stdout",
     "output_type": "stream",
     "text": [
      "........Ended simulation after 1000 steps!........\n",
      "run number 81\n",
      "...............Starting simulation................\n"
     ]
    },
    {
     "name": "stderr",
     "output_type": "stream",
     "text": [
      "100%|██████████| 1000/1000 [00:02<00:00, 425.70it/s]\n",
      "  4%|▍         | 44/1000 [00:00<00:02, 435.52it/s]"
     ]
    },
    {
     "name": "stdout",
     "output_type": "stream",
     "text": [
      "........Ended simulation after 1000 steps!........\n",
      "run number 82\n",
      "...............Starting simulation................\n"
     ]
    },
    {
     "name": "stderr",
     "output_type": "stream",
     "text": [
      "100%|██████████| 1000/1000 [00:02<00:00, 416.49it/s]\n",
      "  4%|▍         | 45/1000 [00:00<00:02, 445.42it/s]"
     ]
    },
    {
     "name": "stdout",
     "output_type": "stream",
     "text": [
      "........Ended simulation after 1000 steps!........\n",
      "run number 83\n",
      "...............Starting simulation................\n"
     ]
    },
    {
     "name": "stderr",
     "output_type": "stream",
     "text": [
      "100%|██████████| 1000/1000 [00:02<00:00, 417.76it/s]\n",
      "  5%|▍         | 46/1000 [00:00<00:02, 452.51it/s]"
     ]
    },
    {
     "name": "stdout",
     "output_type": "stream",
     "text": [
      "........Ended simulation after 1000 steps!........\n",
      "run number 84\n",
      "...............Starting simulation................\n"
     ]
    },
    {
     "name": "stderr",
     "output_type": "stream",
     "text": [
      "100%|██████████| 1000/1000 [00:02<00:00, 413.22it/s]\n",
      "  4%|▍         | 42/1000 [00:00<00:02, 415.75it/s]"
     ]
    },
    {
     "name": "stdout",
     "output_type": "stream",
     "text": [
      "........Ended simulation after 1000 steps!........\n",
      "run number 85\n",
      "...............Starting simulation................\n"
     ]
    },
    {
     "name": "stderr",
     "output_type": "stream",
     "text": [
      "100%|██████████| 1000/1000 [00:02<00:00, 393.10it/s]\n",
      "  4%|▍         | 42/1000 [00:00<00:02, 411.65it/s]"
     ]
    },
    {
     "name": "stdout",
     "output_type": "stream",
     "text": [
      "........Ended simulation after 1000 steps!........\n",
      "run number 86\n",
      "...............Starting simulation................\n"
     ]
    },
    {
     "name": "stderr",
     "output_type": "stream",
     "text": [
      "100%|██████████| 1000/1000 [00:02<00:00, 391.46it/s]\n",
      "  4%|▍         | 42/1000 [00:00<00:02, 415.66it/s]"
     ]
    },
    {
     "name": "stdout",
     "output_type": "stream",
     "text": [
      "........Ended simulation after 1000 steps!........\n",
      "run number 87\n",
      "...............Starting simulation................\n"
     ]
    },
    {
     "name": "stderr",
     "output_type": "stream",
     "text": [
      "100%|██████████| 1000/1000 [00:02<00:00, 394.69it/s]\n",
      "  4%|▍         | 43/1000 [00:00<00:02, 417.53it/s]"
     ]
    },
    {
     "name": "stdout",
     "output_type": "stream",
     "text": [
      "........Ended simulation after 1000 steps!........\n",
      "run number 88\n",
      "...............Starting simulation................\n"
     ]
    },
    {
     "name": "stderr",
     "output_type": "stream",
     "text": [
      "100%|██████████| 1000/1000 [00:02<00:00, 388.85it/s]\n",
      "  4%|▍         | 42/1000 [00:00<00:02, 419.90it/s]"
     ]
    },
    {
     "name": "stdout",
     "output_type": "stream",
     "text": [
      "........Ended simulation after 1000 steps!........\n",
      "run number 89\n",
      "...............Starting simulation................\n"
     ]
    },
    {
     "name": "stderr",
     "output_type": "stream",
     "text": [
      "100%|██████████| 1000/1000 [00:02<00:00, 400.37it/s]\n",
      "  8%|▊         | 78/1000 [00:00<00:01, 766.23it/s]"
     ]
    },
    {
     "name": "stdout",
     "output_type": "stream",
     "text": [
      "........Ended simulation after 1000 steps!........\n",
      "run number 90\n",
      "...............Starting simulation................\n"
     ]
    },
    {
     "name": "stderr",
     "output_type": "stream",
     "text": [
      "100%|██████████| 1000/1000 [00:01<00:00, 767.39it/s]\n",
      " 16%|█▌        | 160/1000 [00:00<00:01, 790.50it/s]"
     ]
    },
    {
     "name": "stdout",
     "output_type": "stream",
     "text": [
      "........Ended simulation after 1000 steps!........\n",
      "run number 91\n",
      "...............Starting simulation................\n"
     ]
    },
    {
     "name": "stderr",
     "output_type": "stream",
     "text": [
      "100%|██████████| 1000/1000 [00:01<00:00, 801.62it/s]\n",
      "  8%|▊         | 79/1000 [00:00<00:01, 781.97it/s]"
     ]
    },
    {
     "name": "stdout",
     "output_type": "stream",
     "text": [
      "........Ended simulation after 1000 steps!........\n",
      "run number 92\n",
      "...............Starting simulation................\n"
     ]
    },
    {
     "name": "stderr",
     "output_type": "stream",
     "text": [
      "100%|██████████| 1000/1000 [00:01<00:00, 780.93it/s]\n",
      "  8%|▊         | 79/1000 [00:00<00:01, 779.71it/s]"
     ]
    },
    {
     "name": "stdout",
     "output_type": "stream",
     "text": [
      "........Ended simulation after 1000 steps!........\n",
      "run number 93\n",
      "...............Starting simulation................\n"
     ]
    },
    {
     "name": "stderr",
     "output_type": "stream",
     "text": [
      "100%|██████████| 1000/1000 [00:01<00:00, 789.09it/s]\n",
      "  8%|▊         | 77/1000 [00:00<00:01, 769.78it/s]"
     ]
    },
    {
     "name": "stdout",
     "output_type": "stream",
     "text": [
      "........Ended simulation after 1000 steps!........\n",
      "run number 94\n",
      "...............Starting simulation................\n"
     ]
    },
    {
     "name": "stderr",
     "output_type": "stream",
     "text": [
      "100%|██████████| 1000/1000 [00:01<00:00, 790.80it/s]\n",
      "  7%|▋         | 74/1000 [00:00<00:01, 732.43it/s]"
     ]
    },
    {
     "name": "stdout",
     "output_type": "stream",
     "text": [
      "........Ended simulation after 1000 steps!........\n",
      "run number 95\n",
      "...............Starting simulation................\n"
     ]
    },
    {
     "name": "stderr",
     "output_type": "stream",
     "text": [
      "100%|██████████| 1000/1000 [00:01<00:00, 716.18it/s]\n",
      "  8%|▊         | 78/1000 [00:00<00:01, 765.44it/s]"
     ]
    },
    {
     "name": "stdout",
     "output_type": "stream",
     "text": [
      "........Ended simulation after 1000 steps!........\n",
      "run number 96\n",
      "...............Starting simulation................\n"
     ]
    },
    {
     "name": "stderr",
     "output_type": "stream",
     "text": [
      "100%|██████████| 1000/1000 [00:01<00:00, 718.33it/s]\n",
      "  8%|▊         | 76/1000 [00:00<00:01, 759.79it/s]"
     ]
    },
    {
     "name": "stdout",
     "output_type": "stream",
     "text": [
      "........Ended simulation after 1000 steps!........\n",
      "run number 97\n",
      "...............Starting simulation................\n"
     ]
    },
    {
     "name": "stderr",
     "output_type": "stream",
     "text": [
      "100%|██████████| 1000/1000 [00:01<00:00, 707.03it/s]\n",
      "  6%|▌         | 62/1000 [00:00<00:01, 617.32it/s]"
     ]
    },
    {
     "name": "stdout",
     "output_type": "stream",
     "text": [
      "........Ended simulation after 1000 steps!........\n",
      "run number 98\n",
      "...............Starting simulation................\n"
     ]
    },
    {
     "name": "stderr",
     "output_type": "stream",
     "text": [
      "100%|██████████| 1000/1000 [00:01<00:00, 688.38it/s]\n",
      "  8%|▊         | 76/1000 [00:00<00:01, 752.26it/s]"
     ]
    },
    {
     "name": "stdout",
     "output_type": "stream",
     "text": [
      "........Ended simulation after 1000 steps!........\n",
      "run number 99\n",
      "...............Starting simulation................\n"
     ]
    },
    {
     "name": "stderr",
     "output_type": "stream",
     "text": [
      "100%|██████████| 1000/1000 [00:01<00:00, 715.58it/s]\n",
      "  6%|▌         | 60/1000 [00:00<00:01, 588.76it/s]"
     ]
    },
    {
     "name": "stdout",
     "output_type": "stream",
     "text": [
      "........Ended simulation after 1000 steps!........\n",
      "run number 100\n",
      "...............Starting simulation................\n"
     ]
    },
    {
     "name": "stderr",
     "output_type": "stream",
     "text": [
      "100%|██████████| 1000/1000 [00:01<00:00, 620.03it/s]\n",
      " 13%|█▎        | 132/1000 [00:00<00:01, 640.99it/s]"
     ]
    },
    {
     "name": "stdout",
     "output_type": "stream",
     "text": [
      "........Ended simulation after 1000 steps!........\n",
      "run number 101\n",
      "...............Starting simulation................\n"
     ]
    },
    {
     "name": "stderr",
     "output_type": "stream",
     "text": [
      "100%|██████████| 1000/1000 [00:01<00:00, 641.43it/s]\n",
      "  7%|▋         | 66/1000 [00:00<00:01, 653.32it/s]"
     ]
    },
    {
     "name": "stdout",
     "output_type": "stream",
     "text": [
      "........Ended simulation after 1000 steps!........\n",
      "run number 102\n",
      "...............Starting simulation................\n"
     ]
    },
    {
     "name": "stderr",
     "output_type": "stream",
     "text": [
      "100%|██████████| 1000/1000 [00:01<00:00, 626.01it/s]\n",
      "  6%|▋         | 64/1000 [00:00<00:01, 633.51it/s]"
     ]
    },
    {
     "name": "stdout",
     "output_type": "stream",
     "text": [
      "........Ended simulation after 1000 steps!........\n",
      "run number 103\n",
      "...............Starting simulation................\n"
     ]
    },
    {
     "name": "stderr",
     "output_type": "stream",
     "text": [
      "100%|██████████| 1000/1000 [00:01<00:00, 640.87it/s]\n",
      "  6%|▌         | 62/1000 [00:00<00:01, 613.71it/s]"
     ]
    },
    {
     "name": "stdout",
     "output_type": "stream",
     "text": [
      "........Ended simulation after 1000 steps!........\n",
      "run number 104\n",
      "...............Starting simulation................\n"
     ]
    },
    {
     "name": "stderr",
     "output_type": "stream",
     "text": [
      "100%|██████████| 1000/1000 [00:01<00:00, 624.69it/s]\n",
      "  6%|▌         | 62/1000 [00:00<00:01, 613.72it/s]"
     ]
    },
    {
     "name": "stdout",
     "output_type": "stream",
     "text": [
      "........Ended simulation after 1000 steps!........\n",
      "run number 105\n",
      "...............Starting simulation................\n"
     ]
    },
    {
     "name": "stderr",
     "output_type": "stream",
     "text": [
      "100%|██████████| 1000/1000 [00:01<00:00, 575.70it/s]\n",
      " 12%|█▏        | 122/1000 [00:00<00:01, 600.32it/s]"
     ]
    },
    {
     "name": "stdout",
     "output_type": "stream",
     "text": [
      "........Ended simulation after 1000 steps!........\n",
      "run number 106\n",
      "...............Starting simulation................\n"
     ]
    },
    {
     "name": "stderr",
     "output_type": "stream",
     "text": [
      "100%|██████████| 1000/1000 [00:01<00:00, 571.63it/s]\n",
      "  6%|▌         | 60/1000 [00:00<00:01, 588.61it/s]"
     ]
    },
    {
     "name": "stdout",
     "output_type": "stream",
     "text": [
      "........Ended simulation after 1000 steps!........\n",
      "run number 107\n",
      "...............Starting simulation................\n"
     ]
    },
    {
     "name": "stderr",
     "output_type": "stream",
     "text": [
      "100%|██████████| 1000/1000 [00:01<00:00, 578.82it/s]\n",
      " 12%|█▏        | 117/1000 [00:00<00:01, 582.32it/s]"
     ]
    },
    {
     "name": "stdout",
     "output_type": "stream",
     "text": [
      "........Ended simulation after 1000 steps!........\n",
      "run number 108\n",
      "...............Starting simulation................\n"
     ]
    },
    {
     "name": "stderr",
     "output_type": "stream",
     "text": [
      "100%|██████████| 1000/1000 [00:01<00:00, 584.41it/s]\n",
      "  6%|▌         | 60/1000 [00:00<00:01, 599.85it/s]"
     ]
    },
    {
     "name": "stdout",
     "output_type": "stream",
     "text": [
      "........Ended simulation after 1000 steps!........\n",
      "run number 109\n",
      "...............Starting simulation................\n"
     ]
    },
    {
     "name": "stderr",
     "output_type": "stream",
     "text": [
      "100%|██████████| 1000/1000 [00:01<00:00, 581.28it/s]\n",
      " 11%|█         | 108/1000 [00:00<00:01, 535.61it/s]"
     ]
    },
    {
     "name": "stdout",
     "output_type": "stream",
     "text": [
      "........Ended simulation after 1000 steps!........\n",
      "run number 110\n",
      "...............Starting simulation................\n"
     ]
    },
    {
     "name": "stderr",
     "output_type": "stream",
     "text": [
      "100%|██████████| 1000/1000 [00:01<00:00, 534.05it/s]\n",
      "  5%|▌         | 51/1000 [00:00<00:01, 509.88it/s]"
     ]
    },
    {
     "name": "stdout",
     "output_type": "stream",
     "text": [
      "........Ended simulation after 1000 steps!........\n",
      "run number 111\n",
      "...............Starting simulation................\n"
     ]
    },
    {
     "name": "stderr",
     "output_type": "stream",
     "text": [
      "100%|██████████| 1000/1000 [00:01<00:00, 515.14it/s]\n",
      "  5%|▌         | 53/1000 [00:00<00:01, 529.81it/s]"
     ]
    },
    {
     "name": "stdout",
     "output_type": "stream",
     "text": [
      "........Ended simulation after 1000 steps!........\n",
      "run number 112\n",
      "...............Starting simulation................\n"
     ]
    },
    {
     "name": "stderr",
     "output_type": "stream",
     "text": [
      "100%|██████████| 1000/1000 [00:01<00:00, 520.24it/s]\n",
      "  5%|▌         | 51/1000 [00:00<00:01, 504.82it/s]"
     ]
    },
    {
     "name": "stdout",
     "output_type": "stream",
     "text": [
      "........Ended simulation after 1000 steps!........\n",
      "run number 113\n",
      "...............Starting simulation................\n"
     ]
    },
    {
     "name": "stderr",
     "output_type": "stream",
     "text": [
      "100%|██████████| 1000/1000 [00:01<00:00, 514.02it/s]\n",
      " 10%|▉         | 96/1000 [00:00<00:01, 473.34it/s]"
     ]
    },
    {
     "name": "stdout",
     "output_type": "stream",
     "text": [
      "........Ended simulation after 1000 steps!........\n",
      "run number 114\n",
      "...............Starting simulation................\n"
     ]
    },
    {
     "name": "stderr",
     "output_type": "stream",
     "text": [
      "100%|██████████| 1000/1000 [00:01<00:00, 510.18it/s]\n",
      "  5%|▌         | 51/1000 [00:00<00:01, 503.55it/s]"
     ]
    },
    {
     "name": "stdout",
     "output_type": "stream",
     "text": [
      "........Ended simulation after 1000 steps!........\n",
      "run number 115\n",
      "...............Starting simulation................\n"
     ]
    },
    {
     "name": "stderr",
     "output_type": "stream",
     "text": [
      "100%|██████████| 1000/1000 [00:02<00:00, 479.54it/s]\n",
      "  5%|▌         | 50/1000 [00:00<00:01, 497.69it/s]"
     ]
    },
    {
     "name": "stdout",
     "output_type": "stream",
     "text": [
      "........Ended simulation after 1000 steps!........\n",
      "run number 116\n",
      "...............Starting simulation................\n"
     ]
    },
    {
     "name": "stderr",
     "output_type": "stream",
     "text": [
      "100%|██████████| 1000/1000 [00:02<00:00, 470.76it/s]\n",
      " 10%|▉         | 98/1000 [00:00<00:01, 481.70it/s]"
     ]
    },
    {
     "name": "stdout",
     "output_type": "stream",
     "text": [
      "........Ended simulation after 1000 steps!........\n",
      "run number 117\n",
      "...............Starting simulation................\n"
     ]
    },
    {
     "name": "stderr",
     "output_type": "stream",
     "text": [
      "100%|██████████| 1000/1000 [00:02<00:00, 471.14it/s]\n",
      "  5%|▌         | 50/1000 [00:00<00:01, 494.93it/s]"
     ]
    },
    {
     "name": "stdout",
     "output_type": "stream",
     "text": [
      "........Ended simulation after 1000 steps!........\n",
      "run number 118\n",
      "...............Starting simulation................\n"
     ]
    },
    {
     "name": "stderr",
     "output_type": "stream",
     "text": [
      "100%|██████████| 1000/1000 [00:02<00:00, 482.20it/s]\n",
      "  5%|▌         | 51/1000 [00:00<00:01, 504.83it/s]"
     ]
    },
    {
     "name": "stdout",
     "output_type": "stream",
     "text": [
      "........Ended simulation after 1000 steps!........\n",
      "run number 119\n",
      "...............Starting simulation................\n"
     ]
    },
    {
     "name": "stderr",
     "output_type": "stream",
     "text": [
      "100%|██████████| 1000/1000 [00:02<00:00, 473.94it/s]\n",
      "  5%|▍         | 46/1000 [00:00<00:02, 459.89it/s]"
     ]
    },
    {
     "name": "stdout",
     "output_type": "stream",
     "text": [
      "........Ended simulation after 1000 steps!........\n",
      "run number 120\n",
      "...............Starting simulation................\n"
     ]
    },
    {
     "name": "stderr",
     "output_type": "stream",
     "text": [
      "100%|██████████| 1000/1000 [00:02<00:00, 450.59it/s]\n",
      "  5%|▍         | 46/1000 [00:00<00:02, 459.90it/s]"
     ]
    },
    {
     "name": "stdout",
     "output_type": "stream",
     "text": [
      "........Ended simulation after 1000 steps!........\n",
      "run number 121\n",
      "...............Starting simulation................\n"
     ]
    },
    {
     "name": "stderr",
     "output_type": "stream",
     "text": [
      "100%|██████████| 1000/1000 [00:02<00:00, 443.31it/s]\n",
      "  5%|▍         | 48/1000 [00:00<00:02, 465.92it/s]"
     ]
    },
    {
     "name": "stdout",
     "output_type": "stream",
     "text": [
      "........Ended simulation after 1000 steps!........\n",
      "run number 122\n",
      "...............Starting simulation................\n"
     ]
    },
    {
     "name": "stderr",
     "output_type": "stream",
     "text": [
      "100%|██████████| 1000/1000 [00:02<00:00, 447.70it/s]\n",
      "  9%|▉         | 92/1000 [00:00<00:02, 453.21it/s]"
     ]
    },
    {
     "name": "stdout",
     "output_type": "stream",
     "text": [
      "........Ended simulation after 1000 steps!........\n",
      "run number 123\n",
      "...............Starting simulation................\n"
     ]
    },
    {
     "name": "stderr",
     "output_type": "stream",
     "text": [
      "100%|██████████| 1000/1000 [00:02<00:00, 441.59it/s]\n",
      "  4%|▍         | 45/1000 [00:00<00:02, 449.89it/s]"
     ]
    },
    {
     "name": "stdout",
     "output_type": "stream",
     "text": [
      "........Ended simulation after 1000 steps!........\n",
      "run number 124\n",
      "...............Starting simulation................\n"
     ]
    },
    {
     "name": "stderr",
     "output_type": "stream",
     "text": [
      "100%|██████████| 1000/1000 [00:02<00:00, 448.42it/s]\n",
      "  4%|▍         | 44/1000 [00:00<00:02, 435.55it/s]"
     ]
    },
    {
     "name": "stdout",
     "output_type": "stream",
     "text": [
      "........Ended simulation after 1000 steps!........\n",
      "run number 125\n",
      "...............Starting simulation................\n"
     ]
    },
    {
     "name": "stderr",
     "output_type": "stream",
     "text": [
      "100%|██████████| 1000/1000 [00:02<00:00, 416.29it/s]\n",
      "  4%|▍         | 45/1000 [00:00<00:02, 441.05it/s]"
     ]
    },
    {
     "name": "stdout",
     "output_type": "stream",
     "text": [
      "........Ended simulation after 1000 steps!........\n",
      "run number 126\n",
      "...............Starting simulation................\n"
     ]
    },
    {
     "name": "stderr",
     "output_type": "stream",
     "text": [
      "100%|██████████| 1000/1000 [00:02<00:00, 421.05it/s]\n",
      "  5%|▍         | 46/1000 [00:00<00:02, 455.55it/s]"
     ]
    },
    {
     "name": "stdout",
     "output_type": "stream",
     "text": [
      "........Ended simulation after 1000 steps!........\n",
      "run number 127\n",
      "...............Starting simulation................\n"
     ]
    },
    {
     "name": "stderr",
     "output_type": "stream",
     "text": [
      "100%|██████████| 1000/1000 [00:02<00:00, 416.15it/s]\n",
      "  4%|▍         | 44/1000 [00:00<00:02, 435.52it/s]"
     ]
    },
    {
     "name": "stdout",
     "output_type": "stream",
     "text": [
      "........Ended simulation after 1000 steps!........\n",
      "run number 128\n",
      "...............Starting simulation................\n"
     ]
    },
    {
     "name": "stderr",
     "output_type": "stream",
     "text": [
      "100%|██████████| 1000/1000 [00:02<00:00, 412.20it/s]\n",
      "  4%|▍         | 44/1000 [00:00<00:02, 435.52it/s]"
     ]
    },
    {
     "name": "stdout",
     "output_type": "stream",
     "text": [
      "........Ended simulation after 1000 steps!........\n",
      "run number 129\n",
      "...............Starting simulation................\n"
     ]
    },
    {
     "name": "stderr",
     "output_type": "stream",
     "text": [
      "100%|██████████| 1000/1000 [00:02<00:00, 412.41it/s]\n",
      "  4%|▍         | 42/1000 [00:00<00:02, 415.86it/s]"
     ]
    },
    {
     "name": "stdout",
     "output_type": "stream",
     "text": [
      "........Ended simulation after 1000 steps!........\n",
      "run number 130\n",
      "...............Starting simulation................\n"
     ]
    },
    {
     "name": "stderr",
     "output_type": "stream",
     "text": [
      "100%|██████████| 1000/1000 [00:02<00:00, 396.08it/s]\n",
      "  4%|▍         | 41/1000 [00:00<00:02, 405.92it/s]"
     ]
    },
    {
     "name": "stdout",
     "output_type": "stream",
     "text": [
      "........Ended simulation after 1000 steps!........\n",
      "run number 131\n",
      "...............Starting simulation................\n"
     ]
    },
    {
     "name": "stderr",
     "output_type": "stream",
     "text": [
      "100%|██████████| 1000/1000 [00:02<00:00, 394.42it/s]\n",
      "  4%|▍         | 41/1000 [00:00<00:02, 409.90it/s]"
     ]
    },
    {
     "name": "stdout",
     "output_type": "stream",
     "text": [
      "........Ended simulation after 1000 steps!........\n",
      "run number 132\n",
      "...............Starting simulation................\n"
     ]
    },
    {
     "name": "stderr",
     "output_type": "stream",
     "text": [
      "100%|██████████| 1000/1000 [00:02<00:00, 397.33it/s]\n",
      "  4%|▍         | 42/1000 [00:00<00:02, 415.74it/s]"
     ]
    },
    {
     "name": "stdout",
     "output_type": "stream",
     "text": [
      "........Ended simulation after 1000 steps!........\n",
      "run number 133\n",
      "...............Starting simulation................\n"
     ]
    },
    {
     "name": "stderr",
     "output_type": "stream",
     "text": [
      "100%|██████████| 1000/1000 [00:02<00:00, 398.09it/s]\n",
      "  4%|▍         | 41/1000 [00:00<00:02, 401.86it/s]"
     ]
    },
    {
     "name": "stdout",
     "output_type": "stream",
     "text": [
      "........Ended simulation after 1000 steps!........\n",
      "run number 134\n",
      "...............Starting simulation................\n"
     ]
    },
    {
     "name": "stderr",
     "output_type": "stream",
     "text": [
      "100%|██████████| 1000/1000 [00:02<00:00, 391.60it/s]"
     ]
    },
    {
     "name": "stdout",
     "output_type": "stream",
     "text": [
      "........Ended simulation after 1000 steps!........\n"
     ]
    },
    {
     "name": "stderr",
     "output_type": "stream",
     "text": [
      "\n"
     ]
    }
   ],
   "source": [
    "%%capture\n",
    "paramspace = {\"v_max\": [5,8,10],                        # 3 values\n",
    "              \"n_cars\": [20,25,30,35,40,45,50,55,60],   # 9 values\n",
    "              \"dawd\": [0.05]}    # 1 values\n",
    "# total: 27 runs\n",
    "\n",
    "results = []\n",
    "names = []\n",
    "run_number = 0\n",
    "names = [\"run\", \"v_max\", \"n_cars\", \"dawdling\",\n",
    "         \"speed_avg\", \"speed_std\",\"speed_min\",\n",
    "         \"speed_q1\", \"speed_median\", \"speed_q3\",\n",
    "         \"speed_max\", \"seed\"]\n",
    "runs_per_experiment = 5\n",
    "for v_max in paramspace[\"v_max\"]:\n",
    "    for n_cars in paramspace[\"n_cars\"]:\n",
    "        for dawdling_factor in paramspace[\"dawd\"]:\n",
    "            for n in range(runs_per_experiment):\n",
    "                print(f\"run number {run_number}\")\n",
    "                seed = randint(1000,10000000)\n",
    "                r = run_sim(n_lanes=3,\n",
    "                            street_length=400,\n",
    "                            n_cars=n_cars,\n",
    "                            v_max=v_max,\n",
    "                            dawdling_factor=dawdling_factor,\n",
    "                            seed=seed)\n",
    "                avg_speeds = r.metric_avg_rel_speed()\n",
    "                results.append([run_number,\n",
    "                                v_max,\n",
    "                                n_cars,\n",
    "                                dawdling_factor,\n",
    "                                np.mean(avg_speeds),\n",
    "                                np.std(avg_speeds),\n",
    "                                *np.quantile(avg_speeds, [0,0.25, 0.5, 0.75,1]),\n",
    "                                seed])\n",
    "                run_number += 1\n",
    "\n",
    "rdf_3lane_len400 = pd.DataFrame(results, columns=names)\n",
    "rdf_3lane_len400.to_csv(\"results_3lane_len400.csv\", sep=\",\", index=False)"
   ],
   "metadata": {
    "collapsed": false,
    "pycharm": {
     "name": "#%%\n"
    }
   }
  },
  {
   "cell_type": "code",
   "execution_count": 72,
   "outputs": [],
   "source": [
    "%%capture\n",
    "\n",
    "paramspace = {\"v_max\": [5,8,10],                        # 3 values\n",
    "              \"n_cars\": [20,25,30,35,40,45,50,55,60],   # 9 values\n",
    "              \"dawd\": [0.05]}    # 1 values\n",
    "# total: 27 runs\n",
    "\n",
    "results = []\n",
    "names = []\n",
    "run_number = 0\n",
    "names = [\"run\", \"v_max\", \"n_cars\", \"dawdling\",\n",
    "         \"speed_avg\", \"speed_std\",\"speed_min\",\n",
    "         \"speed_q1\", \"speed_median\", \"speed_q3\",\n",
    "         \"speed_max\", \"seed\"]\n",
    "runs_per_experiment = 5\n",
    "for v_max in paramspace[\"v_max\"]:\n",
    "    for n_cars in paramspace[\"n_cars\"]:\n",
    "        for dawdling_factor in paramspace[\"dawd\"]:\n",
    "            for n in range(runs_per_experiment):\n",
    "                print(f\"run number {run_number}\")\n",
    "                seed = randint(1000,10000000)\n",
    "                r = run_sim(n_lanes=4,\n",
    "                            street_length=400,\n",
    "                            n_cars=n_cars,\n",
    "                            v_max=v_max,\n",
    "                            dawdling_factor=dawdling_factor,\n",
    "                            seed=seed)\n",
    "                avg_speeds = r.metric_avg_rel_speed()\n",
    "                results.append([run_number,\n",
    "                                v_max,\n",
    "                                n_cars,\n",
    "                                dawdling_factor,\n",
    "                                np.mean(avg_speeds),\n",
    "                                np.std(avg_speeds),\n",
    "                                *np.quantile(avg_speeds, [0,0.25, 0.5, 0.75,1]),\n",
    "                                seed])\n",
    "                run_number += 1\n",
    "\n",
    "rdf_4lane_len400 = pd.DataFrame(results, columns=names)\n",
    "rdf_4lane_len400.to_csv(\"results_4lane_len400.csv\", sep=\",\", index=False)"
   ],
   "metadata": {
    "collapsed": false,
    "pycharm": {
     "name": "#%%\n"
    }
   }
  },
  {
   "cell_type": "code",
   "execution_count": 76,
   "outputs": [],
   "source": [
    "df_1lane_len200 = pd.read_csv(\"results_1lane.csv\", sep=\",\", index_col=None)\n",
    "df_1lane_len200[\"lanes\"] = 1\n",
    "df_1lane_len200[\"length\"] = 200\n",
    "df_2lanes_len200 = pd.read_csv(\"results_2lane.csv\", sep=\",\", index_col=None)\n",
    "df_2lanes_len200[\"lanes\"] = 2\n",
    "df_2lanes_len200[\"length\"] = 200\n",
    "df_3lanes_len200 = pd.read_csv(\"results_3lane.csv\", sep=\",\", index_col=None)\n",
    "df_3lanes_len200[\"lanes\"] = 3\n",
    "df_3lanes_len200[\"length\"] = 200\n",
    "df_4lanes_len200 = pd.read_csv(\"results_4lane.csv\", sep=\",\", index_col=None)\n",
    "df_4lanes_len200[\"lanes\"] = 4\n",
    "df_4lanes_len200[\"length\"] = 200\n",
    "\n",
    "\n",
    "df_1lane_len400 = pd.read_csv(\"results_1lane_doublelength.csv\", sep=\",\", index_col=None)\n",
    "df_1lane_len400[\"lanes\"] = 1\n",
    "df_1lane_len400[\"length\"] = 400\n",
    "df_2lanes_len400 = pd.read_csv(\"results_2lane_len400.csv\", sep=\",\", index_col=None)\n",
    "df_2lanes_len400[\"lanes\"] = 2\n",
    "df_2lanes_len400[\"length\"] = 400\n",
    "df_3lanes_len400 = pd.read_csv(\"results_3lane_len400.csv\", sep=\",\", index_col=None)\n",
    "df_3lanes_len400[\"lanes\"] = 3\n",
    "df_3lanes_len400[\"length\"] = 400\n",
    "df_4lanes_len400 = pd.read_csv(\"results_4lane_len400.csv\", sep=\",\", index_col=None)\n",
    "df_4lanes_len400[\"lanes\"] = 4\n",
    "df_4lanes_len400[\"length\"] = 400\n",
    "\n",
    "df = pd.concat([df_1lane_len200, df_1lane_len400,\n",
    "                df_2lanes_len200, df_2lanes_len400,\n",
    "                df_3lanes_len200, df_3lanes_len400,\n",
    "                df_4lanes_len200, df_4lanes_len400])\n",
    "\n",
    "df.to_csv(\"all_experiments.csv\", sep=\",\", index=False)"
   ],
   "metadata": {
    "collapsed": false,
    "pycharm": {
     "name": "#%%\n"
    }
   }
  },
  {
   "cell_type": "code",
   "execution_count": null,
   "outputs": [],
   "source": [
    "fig, axes = plt.subplots(4,1, figsize=(6,18))\n",
    "\n",
    "ncars_1lane_len200 = sns.lineplot(data=df_1lane_len200, x=\"n_cars\", y=\"speed_avg\", hue=\"v_max\", palette=\"tab10\", ax=axes[0])\n",
    "ncars_4lanes_len200 = sns.lineplot(data=df_4lanes_len200, x=\"n_cars\", y=\"speed_avg\", hue=\"v_max\", palette=\"tab10\", ax=axes[3])\n",
    "ncars_3lanes_len200 = sns.lineplot(data=df_3lanes_len200, x=\"n_cars\", y=\"speed_avg\", hue=\"v_max\", palette=\"tab10\", ax=axes[2])\n",
    "ncars_2lanes_len200 = sns.lineplot(data=df_2lanes_len200, x=\"n_cars\", y=\"speed_avg\", hue=\"v_max\", palette=\"tab10\", ax=axes[1])\n",
    "\n",
    "plt.show()"
   ],
   "metadata": {
    "collapsed": false,
    "pycharm": {
     "name": "#%%\n"
    }
   }
  },
  {
   "cell_type": "code",
   "execution_count": 18,
   "outputs": [
    {
     "data": {
      "text/plain": "<Figure size 915.85x864 with 8 Axes>",
      "image/png": "[encoded data removed]"
     },
     "metadata": {},
     "output_type": "display_data"
    }
   ],
   "source": [
    "df = pd.read_csv(\"all_experiments.csv\", sep=\",\", index_col=None)\n",
    "g = sns.FacetGrid(df, col=\"length\", row='lanes', legend_out=True, height=3, aspect=2, sharex=\"col\")\n",
    "g.map_dataframe(sns.lineplot, x='n_cars', y='speed_avg', hue='v_max', palette=\"tab10\")\n",
    "g.add_legend(title=\"v_max\");\n",
    "g.set_xlabels(\"n_cars\")\n",
    "g.set_ylabels(\"relative average velocity\")\n",
    "plt.show()\n",
    "g.savefig(\"figures/combined.png\")"
   ],
   "metadata": {
    "collapsed": false,
    "pycharm": {
     "name": "#%%\n"
    }
   }
  },
  {
   "cell_type": "code",
   "execution_count": 19,
   "outputs": [],
   "source": [
    "for (lanes, length), plot in g.axes_dict.items():\n",
    "    data = df[(df[\"lanes\"] == lanes) & (df[\"length\"] == length) & (df[\"dawdling\"] == 0.05)]\n",
    "    fig = sns.lineplot(data=data, x=\"n_cars\", y=\"speed_avg\", hue=\"v_max\", palette=\"tab10\")\n",
    "    plt.title(f\"lanes = {lanes} | length = {length}\")\n",
    "    plt.xlabel(\"n_cars\")\n",
    "    plt.ylabel(\"relative average velocity\")\n",
    "    plt.ylim(0.25, 1.05)\n",
    "    plt.legend(loc=\"lower left\", title=\"v_max\")\n",
    "    fig.get_figure().savefig(f\"figures/ncars_{lanes}lanes_len{length}.png\")\n",
    "    plt.close()"
   ],
   "metadata": {
    "collapsed": false,
    "pycharm": {
     "name": "#%%\n"
    }
   }
  },
  {
   "cell_type": "code",
   "execution_count": 121,
   "outputs": [
    {
     "data": {
      "text/plain": "<Figure size 483.85x432 with 4 Axes>",
      "image/png": "[encoded data removed]"
     },
     "metadata": {},
     "output_type": "display_data"
    }
   ],
   "source": [
    "df2 = df[df[\"lanes\"] <= 2]\n",
    "g = sns.FacetGrid(df2, col=\"length\", row='lanes', legend_out=True, height=3, aspect=1, sharex=\"col\")\n",
    "g.map_dataframe(sns.lineplot, x='n_cars', y='speed_avg', hue='v_max', palette=\"tab10\")\n",
    "g.add_legend(title=\"v_max\");g.set_xlabels(\"n_cars\")\n",
    "g.set_ylabels(\"relative average velocity\")\n",
    "plt.show()\n",
    "g.savefig(\"figures/combined2.png\")"
   ],
   "metadata": {
    "collapsed": false,
    "pycharm": {
     "name": "#%%\n"
    }
   }
  },
  {
   "cell_type": "code",
   "execution_count": 123,
   "outputs": [
    {
     "data": {
      "text/plain": "<Figure size 267.85x432 with 2 Axes>",
      "image/png": "[encoded data removed]"
     },
     "metadata": {},
     "output_type": "display_data"
    }
   ],
   "source": [
    "df3 = df[(df[\"lanes\"] <= 2) & (df[\"length\"] == 200)]\n",
    "g = sns.FacetGrid(df3, col=\"length\", row='lanes', legend_out=True, height=3, aspect=1, sharex=\"col\")\n",
    "g.map_dataframe(sns.lineplot, x='dawdling', y='speed_avg', hue='v_max', palette=\"tab10\")\n",
    "g.add_legend(title=\"v_max\");\n",
    "g.set_xlabels(\"dawdling factor\")\n",
    "g.set_ylabels(\"relative average velocity\")\n",
    "plt.show()\n",
    "g.savefig(\"figures/combined3.png\")"
   ],
   "metadata": {
    "collapsed": false,
    "pycharm": {
     "name": "#%%\n"
    }
   }
  }
 ],
 "metadata": {
  "kernelspec": {
   "display_name": "Python 3",
   "language": "python",
   "name": "python3"
  },
  "language_info": {
   "codemirror_mode": {
    "name": "ipython",
    "version": 2
   },
   "file_extension": ".py",
   "mimetype": "text/x-python",
   "name": "python",
   "nbconvert_exporter": "python",
   "pygments_lexer": "ipython2",
   "version": "2.7.6"
  }
 },
 "nbformat": 4,
 "nbformat_minor": 0
}